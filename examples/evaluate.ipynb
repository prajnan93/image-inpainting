{
 "cells": [
  {
   "cell_type": "code",
   "execution_count": 1,
   "metadata": {},
   "outputs": [],
   "source": [
    "import sys\n",
    "\n",
    "sys.argv = [\"\"]\n",
    "del sys"
   ]
  },
  {
   "cell_type": "code",
   "execution_count": 2,
   "metadata": {
    "pycharm": {
     "is_executing": true
    }
   },
   "outputs": [
    {
     "name": "stderr",
     "output_type": "stream",
     "text": [
      "/Users/aadit/miniconda3/envs/inpaint/lib/python3.8/site-packages/torchvision/io/image.py:11: UserWarning: Failed to load image Python extension: \n",
      "  warn(f\"Failed to load image Python extension: {e}\")\n"
     ]
    }
   ],
   "source": [
    "import argparse\n",
    "import os\n",
    "from copy import deepcopy\n",
    "\n",
    "import numpy as np\n",
    "import torch\n",
    "import torch.nn as nn\n",
    "import torch.nn.functional as F\n",
    "from torch.utils.data import DataLoader\n",
    "from torch.utils.tensorboard import SummaryWriter\n",
    "\n",
    "# causing the kernal to die.!!\n",
    "\n",
    "from inpaint.data import PlacesDataset \n",
    "import matplotlib.pyplot as plt\n",
    "import random"
   ]
  },
  {
   "cell_type": "code",
   "execution_count": 3,
   "metadata": {},
   "outputs": [],
   "source": [
    "def flipCoin():\n",
    "    f = random.random()\n",
    "    return True if f < 0.5 else False"
   ]
  },
  {
   "cell_type": "code",
   "execution_count": 4,
   "metadata": {},
   "outputs": [],
   "source": [
    "def create_cfg(args):\n",
    "    parser = argparse.ArgumentParser()\n",
    "    for key, val in args.items():\n",
    "        parser.add_argument(key, default=val)\n",
    "\n",
    "    cfg = parser.parse_args()\n",
    "    return cfg"
   ]
  },
  {
   "cell_type": "code",
   "execution_count": 5,
   "metadata": {
    "pycharm": {
     "name": "#%%\n"
    }
   },
   "outputs": [],
   "source": [
    "args = {}\n",
    "# model\n",
    "args[\"--in_channels\"] = 4\n",
    "args[\"--out_channels\"] = 3\n",
    "args[\"--latent_channels\"] = 64\n",
    "args[\"--pad_type\"] = \"zero\"\n",
    "args[\"--activation\"] = \"elu\"\n",
    "args[\"--norm_d\"] = \"none\"\n",
    "args[\"--norm_g\"] = \"none\"\n",
    "args[\"--init_type\"] = \"kaiming\"\n",
    "args[\"--init_gain\"] = 0.02\n",
    "args[\"--use_cuda\"] = False\n",
    "\n",
    "# dataset\n",
    "args[\"--val_ds_dir\"] = '../samples/Places365'\n",
    "args[\"--crop_size\"] = (256, 256)\n",
    "args[\"--batch_size\"] =  1\n",
    "args[\"--num_workers\"] = 1\n",
    "args[\"--device_id\"] = 0\n",
    "args[\"--val_steps\"] = 10"
   ]
  },
  {
   "cell_type": "code",
   "execution_count": 6,
   "metadata": {
    "pycharm": {
     "name": "#%%\n"
    }
   },
   "outputs": [],
   "source": [
    "cfg = create_cfg(args)"
   ]
  },
  {
   "cell_type": "code",
   "execution_count": 7,
   "metadata": {},
   "outputs": [
    {
     "name": "stderr",
     "output_type": "stream",
     "text": [
      "/Users/aadit/miniconda3/envs/inpaint/lib/python3.8/site-packages/torchvision/transforms/transforms.py:852: UserWarning: Argument interpolation should be of type InterpolationMode instead of int. Please, use InterpolationMode enum.\n",
      "  warnings.warn(\n"
     ]
    }
   ],
   "source": [
    "val_ds = PlacesDataset(path_dir = cfg.val_ds_dir, transform_config=('to_tensor', 'center_crop', 'norm'), crop_size=cfg.crop_size)\n",
    "val_loader = DataLoader(val_ds, batch_size=cfg.batch_size, shuffle=True, pin_memory=True, num_workers=cfg.num_workers)"
   ]
  },
  {
   "cell_type": "code",
   "execution_count": 8,
   "metadata": {},
   "outputs": [
    {
     "name": "stdout",
     "output_type": "stream",
     "text": [
      "Total validation images: 24\n"
     ]
    }
   ],
   "source": [
    "print(f\"Total validation images: {len(val_ds)}\")"
   ]
  },
  {
   "cell_type": "markdown",
   "metadata": {},
   "source": [
    "___"
   ]
  },
  {
   "cell_type": "code",
   "execution_count": 9,
   "metadata": {},
   "outputs": [],
   "source": [
    "from inpaint.core.generator import GatedGenerator\n",
    "from inpaint.tools import Evaluate\n",
    "import glob"
   ]
  },
  {
   "cell_type": "markdown",
   "metadata": {},
   "source": [
    "___\n",
    "\n",
    "1. Initialize generator from a saved checkpoint"
   ]
  },
  {
   "cell_type": "code",
   "execution_count": 14,
   "metadata": {},
   "outputs": [
    {
     "name": "stdout",
     "output_type": "stream",
     "text": [
      "['../../checkpoints/exp1/best_models_final.pth', '../../checkpoints/exp1/ckpt_epoch1.pth', '../../checkpoints/exp1/ckpt_epoch30.pth']\n"
     ]
    },
    {
     "data": {
      "text/plain": [
       "<All keys matched successfully>"
      ]
     },
     "execution_count": 14,
     "metadata": {},
     "output_type": "execute_result"
    }
   ],
   "source": [
    "# load checkpoint and initialize\n",
    "checkpoints_dir= '../../checkpoints/exp1'\n",
    "\n",
    "checkpointslist= (glob.glob(\"../../checkpoints/exp1/*.pth\")) \n",
    "\n",
    "# checkpointslist = os.listdir(checkpoints_dir)\n",
    "print(checkpointslist)\n",
    "\n",
    "# best_model_index = checkpointslist.index('../../checkpoints/exp1/best_models_final.pth')\n",
    "best_model_index = checkpointslist.index('../../checkpoints/exp1/ckpt_epoch1.pth')\n",
    "\n",
    "\n",
    "best_model = checkpointslist[best_model_index]\n",
    "# print(best_model)\n",
    "\n",
    "generator = GatedGenerator(cfg)\n",
    "\n",
    "models = torch.load(best_model, map_location=torch.device('cpu') )\n",
    "gen_model_state_dict = models[\"generator_state_dict\"]\n",
    "generator.load_state_dict(gen_model_state_dict)\n"
   ]
  },
  {
   "cell_type": "markdown",
   "metadata": {},
   "source": [
    "___\n",
    "\n",
    "2. Create Evaluate instance pass dataloader and generator instance to Evaluate "
   ]
  },
  {
   "cell_type": "code",
   "execution_count": 15,
   "metadata": {
    "pycharm": {
     "is_executing": true,
     "name": "#%%\n"
    }
   },
   "outputs": [],
   "source": [
    "eval_gen = Evaluate(generator,val_loader)"
   ]
  },
  {
   "cell_type": "markdown",
   "metadata": {},
   "source": [
    "____\n",
    "3. Evaluate (return avg psnr and avg ssim value"
   ]
  },
  {
   "cell_type": "code",
   "execution_count": 16,
   "metadata": {
    "pycharm": {
     "name": "#%%\n"
    }
   },
   "outputs": [
    {
     "name": "stderr",
     "output_type": "stream",
     "text": [
      "/Users/aadit/miniconda3/envs/inpaint/lib/python3.8/site-packages/torchvision/io/image.py:11: UserWarning: Failed to load image Python extension: \n",
      "  warn(f\"Failed to load image Python extension: {e}\")\n"
     ]
    }
   ],
   "source": [
    "avg_psnr, avg_ssim = eval_gen.evaluate()"
   ]
  },
  {
   "cell_type": "code",
   "execution_count": 17,
   "metadata": {
    "pycharm": {
     "name": "#%%\n"
    }
   },
   "outputs": [
    {
     "name": "stdout",
     "output_type": "stream",
     "text": [
      "68.98837693718744 0.8659873157739639\n"
     ]
    }
   ],
   "source": [
    "print(avg_psnr, avg_ssim)"
   ]
  },
  {
   "cell_type": "code",
   "execution_count": null,
   "metadata": {
    "pycharm": {
     "name": "#%%\n"
    }
   },
   "outputs": [],
   "source": [
    "# best model : avg_psnr= 71.03444448747706 avg_ssim = 0.8908961191773415"
   ]
  },
  {
   "cell_type": "code",
   "execution_count": null,
   "metadata": {},
   "outputs": [],
   "source": [
    "# checkpoint 1 : avg_psnr = 68.98837693718744 avg_ssim = 0.8659873157739639"
   ]
  }
 ],
 "metadata": {
  "kernelspec": {
   "display_name": "Python 3 (ipykernel)",
   "language": "python",
   "name": "python3"
  },
  "language_info": {
   "codemirror_mode": {
    "name": "ipython",
    "version": 3
   },
   "file_extension": ".py",
   "mimetype": "text/x-python",
   "name": "python",
   "nbconvert_exporter": "python",
   "pygments_lexer": "ipython3",
   "version": "3.8.13"
  }
 },
 "nbformat": 4,
 "nbformat_minor": 4
}

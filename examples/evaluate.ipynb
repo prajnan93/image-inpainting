{
 "cells": [
  {
   "cell_type": "code",
   "execution_count": 67,
   "metadata": {},
   "outputs": [],
   "source": [
    "import sys\n",
    "\n",
    "sys.argv = [\"\"]\n",
    "del sys"
   ]
  },
  {
   "cell_type": "code",
   "execution_count": 68,
   "metadata": {
    "pycharm": {
     "is_executing": true
    }
   },
   "outputs": [],
   "source": [
    "import argparse\n",
    "import os\n",
    "from copy import deepcopy\n",
    "\n",
    "import numpy as np\n",
    "import torch\n",
    "import torch.nn as nn\n",
    "import torch.nn.functional as F\n",
    "from torch.utils.data import DataLoader\n",
    "from torch.utils.tensorboard import SummaryWriter\n",
    "\n",
    "# causing the kernal to die.!!\n",
    "# from inpaint.data import *\n",
    "from inpaint.data import PlacesDataset \n",
    "# from inpaint.utils import random_bbox_mask, random_ff_mask\n",
    "# from inpaint.utils.metrics import psnr\n",
    "# from inpaint.utils.metrics import ssim\n",
    "\n",
    "import matplotlib.pyplot as plt\n",
    "\n",
    "import random"
   ]
  },
  {
   "cell_type": "code",
   "execution_count": 69,
   "metadata": {},
   "outputs": [],
   "source": [
    "def flipCoin():\n",
    "    f = random.random()\n",
    "    return True if f < 0.5 else False"
   ]
  },
  {
   "cell_type": "code",
   "execution_count": 70,
   "metadata": {},
   "outputs": [],
   "source": [
    "def create_cfg(args):\n",
    "    parser = argparse.ArgumentParser()\n",
    "    for key, val in args.items():\n",
    "        parser.add_argument(key, default=val)\n",
    "\n",
    "    cfg = parser.parse_args()\n",
    "    return cfg"
   ]
  },
  {
   "cell_type": "code",
   "execution_count": 71,
   "metadata": {
    "pycharm": {
     "name": "#%%\n"
    }
   },
   "outputs": [],
   "source": [
    "args = {}\n",
    "# model\n",
    "args[\"--in_channels\"] = 4\n",
    "args[\"--out_channels\"] = 3\n",
    "args[\"--latent_channels\"] = 64\n",
    "args[\"--pad_type\"] = \"zero\"\n",
    "args[\"--activation\"] = \"elu\"\n",
    "args[\"--norm_d\"] = \"none\"\n",
    "args[\"--norm_g\"] = \"none\"\n",
    "args[\"--init_type\"] = \"kaiming\"\n",
    "args[\"--init_gain\"] = 0.02\n",
    "args[\"--use_cuda\"] = False\n",
    "\n",
    "# dataset\n",
    "args[\"--val_ds_dir\"] = '../samples/Places365'\n",
    "args[\"--crop_size\"] = (256, 256)\n",
    "args[\"--batch_size\"] =  1\n",
    "args[\"--num_workers\"] = 1\n",
    "args[\"--device_id\"] = 0\n",
    "args[\"--val_steps\"] = 10"
   ]
  },
  {
   "cell_type": "code",
   "execution_count": 72,
   "metadata": {
    "pycharm": {
     "name": "#%%\n"
    }
   },
   "outputs": [],
   "source": [
    "cfg = create_cfg(args)"
   ]
  },
  {
   "cell_type": "code",
   "execution_count": 73,
   "metadata": {},
   "outputs": [],
   "source": [
    "val_ds = PlacesDataset(path_dir = cfg.val_ds_dir, transform_config=('to_tensor', 'center_crop', 'norm'), crop_size=cfg.crop_size)\n",
    "val_loader = DataLoader(val_ds, batch_size=cfg.batch_size, shuffle=True, pin_memory=True, num_workers=cfg.num_workers)"
   ]
  },
  {
   "cell_type": "code",
   "execution_count": 74,
   "metadata": {},
   "outputs": [
    {
     "name": "stdout",
     "output_type": "stream",
     "text": [
      "Total validation images: 24\n"
     ]
    }
   ],
   "source": [
    "print(f\"Total validation images: {len(val_ds)}\")"
   ]
  },
  {
   "cell_type": "markdown",
   "metadata": {},
   "source": [
    "___"
   ]
  },
  {
   "cell_type": "code",
   "execution_count": 75,
   "metadata": {},
   "outputs": [],
   "source": [
    "from inpaint.core.generator import GatedGenerator\n",
    "from inpaint.tools import Evaluate\n",
    "import glob"
   ]
  },
  {
   "cell_type": "markdown",
   "metadata": {},
   "source": [
    "___\n",
    "\n",
    "1. Initialize generator from a saved checkpoint"
   ]
  },
  {
   "cell_type": "code",
   "execution_count": 78,
   "metadata": {},
   "outputs": [
    {
     "name": "stdout",
     "output_type": "stream",
     "text": [
      "['../../checkpoints/exp1/best_models_final.pth', '../../checkpoints/exp1/ckpt_epoch1.pth', '../../checkpoints/exp1/ckpt_epoch30.pth']\n"
     ]
    },
    {
     "data": {
      "text/plain": [
       "<All keys matched successfully>"
      ]
     },
     "execution_count": 78,
     "metadata": {},
     "output_type": "execute_result"
    }
   ],
   "source": [
    "# load checkpoint and initialize\n",
    "checkpoints_dir= '../../checkpoints/exp1'\n",
    "\n",
    "checkpointslist= (glob.glob(\"../../checkpoints/exp1/*.pth\")) \n",
    "\n",
    "# checkpointslist = os.listdir(checkpoints_dir)\n",
    "print(checkpointslist)\n",
    "\n",
    "best_model_index = checkpointslist.index('../../checkpoints/exp1/best_models_final.pth')\n",
    "\n",
    "best_model = checkpointslist[best_model_index]\n",
    "# print(best_model)\n",
    "\n",
    "val_steps = cfg.val_steps\n",
    "generator = GatedGenerator(cfg)\n",
    "# generator = None\n",
    "map_location=torch.device('cpu')\n",
    "models = torch.load(best_model, map_location=map_location )\n",
    "gen_model_state_dict = models[\"generator_state_dict\"]\n",
    "generator = generator.load_state_dict(gen_model_state_dict)\n",
    "\n",
    "# generator.to(self.device)\n",
    "# generator.eval()"
   ]
  },
  {
   "cell_type": "markdown",
   "metadata": {},
   "source": [
    "___\n",
    "\n",
    "2. Create Evaluate instance pass dataloader and generator instance to Evaluate "
   ]
  },
  {
   "cell_type": "code",
   "execution_count": 79,
   "metadata": {
    "pycharm": {
     "is_executing": true,
     "name": "#%%\n"
    }
   },
   "outputs": [
    {
     "ename": "AttributeError",
     "evalue": "'GatedGenerator' object has no attribute 'device_id'",
     "output_type": "error",
     "traceback": [
      "\u001B[0;31m---------------------------------------------------------------------------\u001B[0m",
      "\u001B[0;31mAttributeError\u001B[0m                            Traceback (most recent call last)",
      "Input \u001B[0;32mIn [79]\u001B[0m, in \u001B[0;36m<cell line: 1>\u001B[0;34m()\u001B[0m\n\u001B[0;32m----> 1\u001B[0m \u001B[38;5;28meval\u001B[39m \u001B[38;5;241m=\u001B[39m \u001B[43mEvaluate\u001B[49m\u001B[43m(\u001B[49m\u001B[43mgenerator\u001B[49m\u001B[43m,\u001B[49m\u001B[43mval_loader\u001B[49m\u001B[43m)\u001B[49m\n",
      "File \u001B[0;32m~/miniconda3/envs/inpaint/lib/python3.8/site-packages/inpaint-0.1.0-py3.8.egg/inpaint/tools/evaluate.py:34\u001B[0m, in \u001B[0;36mEvaluate.__init__\u001B[0;34m(self, cfg, val_loader)\u001B[0m\n\u001B[1;32m     31\u001B[0m \u001B[38;5;28;01mdef\u001B[39;00m \u001B[38;5;21m__init__\u001B[39m(\u001B[38;5;28mself\u001B[39m, generator, val_loader,val_steps):\n\u001B[1;32m     32\u001B[0m     \u001B[38;5;66;03m#remove cfg\u001B[39;00m\n\u001B[1;32m     33\u001B[0m     \u001B[38;5;28mself\u001B[39m\u001B[38;5;241m.\u001B[39mgenerator \u001B[38;5;241m=\u001B[39m generator\n\u001B[0;32m---> 34\u001B[0m     \u001B[38;5;28mself\u001B[39m\u001B[38;5;241m.\u001B[39mval_loader \u001B[38;5;241m=\u001B[39m val_loader\n\u001B[1;32m     35\u001B[0m     \u001B[38;5;66;03m# self.device = torch.device(cfg.device_id)\u001B[39;00m\n\u001B[1;32m     36\u001B[0m     \u001B[38;5;28mself\u001B[39m\u001B[38;5;241m.\u001B[39mval_steps \u001B[38;5;241m=\u001B[39m val_steps\n",
      "File \u001B[0;32m~/miniconda3/envs/inpaint/lib/python3.8/site-packages/torch/nn/modules/module.py:1177\u001B[0m, in \u001B[0;36mModule.__getattr__\u001B[0;34m(self, name)\u001B[0m\n\u001B[1;32m   1175\u001B[0m     \u001B[38;5;28;01mif\u001B[39;00m name \u001B[38;5;129;01min\u001B[39;00m modules:\n\u001B[1;32m   1176\u001B[0m         \u001B[38;5;28;01mreturn\u001B[39;00m modules[name]\n\u001B[0;32m-> 1177\u001B[0m \u001B[38;5;28;01mraise\u001B[39;00m \u001B[38;5;167;01mAttributeError\u001B[39;00m(\u001B[38;5;124m\"\u001B[39m\u001B[38;5;124m'\u001B[39m\u001B[38;5;132;01m{}\u001B[39;00m\u001B[38;5;124m'\u001B[39m\u001B[38;5;124m object has no attribute \u001B[39m\u001B[38;5;124m'\u001B[39m\u001B[38;5;132;01m{}\u001B[39;00m\u001B[38;5;124m'\u001B[39m\u001B[38;5;124m\"\u001B[39m\u001B[38;5;241m.\u001B[39mformat(\n\u001B[1;32m   1178\u001B[0m     \u001B[38;5;28mtype\u001B[39m(\u001B[38;5;28mself\u001B[39m)\u001B[38;5;241m.\u001B[39m\u001B[38;5;18m__name__\u001B[39m, name))\n",
      "\u001B[0;31mAttributeError\u001B[0m: 'GatedGenerator' object has no attribute 'device_id'"
     ]
    }
   ],
   "source": [
    "eval = Evaluate(generator,val_loader)"
   ]
  },
  {
   "cell_type": "markdown",
   "metadata": {},
   "source": [
    "____\n",
    "3. Evaluate (return avg psnr and avg ssim value"
   ]
  },
  {
   "cell_type": "code",
   "execution_count": 34,
   "metadata": {
    "pycharm": {
     "name": "#%%\n"
    }
   },
   "outputs": [
    {
     "ename": "AttributeError",
     "evalue": "'builtin_function_or_method' object has no attribute 'evaluate'",
     "output_type": "error",
     "traceback": [
      "\u001B[0;31m---------------------------------------------------------------------------\u001B[0m",
      "\u001B[0;31mAttributeError\u001B[0m                            Traceback (most recent call last)",
      "Input \u001B[0;32mIn [34]\u001B[0m, in \u001B[0;36m<cell line: 1>\u001B[0;34m()\u001B[0m\n\u001B[0;32m----> 1\u001B[0m avg_psnr, avg_ssim \u001B[38;5;241m=\u001B[39m \u001B[38;5;28;43meval\u001B[39;49m\u001B[38;5;241;43m.\u001B[39;49m\u001B[43mevaluate\u001B[49m()\n",
      "\u001B[0;31mAttributeError\u001B[0m: 'builtin_function_or_method' object has no attribute 'evaluate'"
     ]
    }
   ],
   "source": [
    "avg_psnr, avg_ssim = eval.evaluate()"
   ]
  },
  {
   "cell_type": "code",
   "execution_count": null,
   "metadata": {
    "pycharm": {
     "name": "#%%\n"
    }
   },
   "outputs": [],
   "source": []
  },
  {
   "cell_type": "code",
   "execution_count": null,
   "metadata": {
    "pycharm": {
     "name": "#%%\n"
    }
   },
   "outputs": [],
   "source": []
  },
  {
   "cell_type": "code",
   "execution_count": null,
   "metadata": {},
   "outputs": [],
   "source": []
  }
 ],
 "metadata": {
  "kernelspec": {
   "display_name": "Python 3 (ipykernel)",
   "language": "python",
   "name": "python3"
  },
  "language_info": {
   "codemirror_mode": {
    "name": "ipython",
    "version": 3
   },
   "file_extension": ".py",
   "mimetype": "text/x-python",
   "name": "python",
   "nbconvert_exporter": "python",
   "pygments_lexer": "ipython3",
   "version": "3.8.13"
  }
 },
 "nbformat": 4,
 "nbformat_minor": 4
}
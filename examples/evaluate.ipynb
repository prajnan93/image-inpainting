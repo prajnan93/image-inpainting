{
 "cells": [
  {
   "cell_type": "code",
   "execution_count": 1,
   "metadata": {},
   "outputs": [],
   "source": [
    "import sys\n",
    "\n",
    "sys.argv = [\"\"]\n",
    "del sys"
   ]
  },
  {
   "cell_type": "code",
   "execution_count": 2,
   "metadata": {
    "pycharm": {
     "is_executing": true
    }
   },
   "outputs": [
    {
     "name": "stderr",
     "output_type": "stream",
     "text": [
      "/Users/aadit/miniconda3/envs/inpaint/lib/python3.8/site-packages/torchvision/io/image.py:11: UserWarning: Failed to load image Python extension: \n",
      "  warn(f\"Failed to load image Python extension: {e}\")\n"
     ]
    }
   ],
   "source": [
    "import argparse\n",
    "import os\n",
    "from copy import deepcopy\n",
    "\n",
    "import numpy as np\n",
    "import torch\n",
    "import torch.nn as nn\n",
    "import torch.nn.functional as F\n",
    "from torch.utils.data import DataLoader\n",
    "from torch.utils.tensorboard import SummaryWriter\n",
    "\n",
    "# causing the kernal to die.!!\n",
    "\n",
    "from inpaint.data import PlacesDataset \n",
    "import matplotlib.pyplot as plt\n",
    "import random"
   ]
  },
  {
   "cell_type": "code",
   "execution_count": 3,
   "metadata": {},
   "outputs": [],
   "source": [
    "def flipCoin():\n",
    "    f = random.random()\n",
    "    return True if f < 0.5 else False"
   ]
  },
  {
   "cell_type": "code",
   "execution_count": 4,
   "metadata": {},
   "outputs": [],
   "source": [
    "def create_cfg(args):\n",
    "    parser = argparse.ArgumentParser()\n",
    "    for key, val in args.items():\n",
    "        parser.add_argument(key, default=val)\n",
    "\n",
    "    cfg = parser.parse_args()\n",
    "    return cfg"
   ]
  },
  {
   "cell_type": "code",
   "execution_count": 5,
   "metadata": {
    "pycharm": {
     "name": "#%%\n"
    }
   },
   "outputs": [],
   "source": [
    "args = {}\n",
    "# model\n",
    "args[\"--in_channels\"] = 4\n",
    "args[\"--out_channels\"] = 3\n",
    "args[\"--latent_channels\"] = 64\n",
    "args[\"--pad_type\"] = \"zero\"\n",
    "args[\"--activation\"] = \"elu\"\n",
    "args[\"--norm_d\"] = \"none\"\n",
    "args[\"--norm_g\"] = \"none\"\n",
    "args[\"--init_type\"] = \"kaiming\"\n",
    "args[\"--init_gain\"] = 0.02\n",
    "args[\"--use_cuda\"] = False\n",
    "\n",
    "# dataset\n",
    "args[\"--val_ds_dir\"] = '../samples/Places365'\n",
    "args[\"--crop_size\"] = (256, 256)\n",
    "args[\"--batch_size\"] =  1\n",
    "args[\"--num_workers\"] = 1\n",
    "args[\"--device_id\"] = 0\n",
    "args[\"--val_steps\"] = 10"
   ]
  },
  {
   "cell_type": "code",
   "execution_count": 6,
   "metadata": {
    "pycharm": {
     "name": "#%%\n"
    }
   },
   "outputs": [],
   "source": [
    "cfg = create_cfg(args)"
   ]
  },
  {
   "cell_type": "code",
   "execution_count": 7,
   "metadata": {},
   "outputs": [
    {
     "name": "stderr",
     "output_type": "stream",
     "text": [
      "/Users/aadit/miniconda3/envs/inpaint/lib/python3.8/site-packages/torchvision/transforms/transforms.py:852: UserWarning: Argument interpolation should be of type InterpolationMode instead of int. Please, use InterpolationMode enum.\n",
      "  warnings.warn(\n"
     ]
    }
   ],
   "source": [
    "val_ds = PlacesDataset(path_dir = cfg.val_ds_dir, transform_config=('to_tensor', 'center_crop', 'norm'), crop_size=cfg.crop_size)\n",
    "val_loader = DataLoader(val_ds, batch_size=cfg.batch_size, shuffle=True, pin_memory=True, num_workers=cfg.num_workers)"
   ]
  },
  {
   "cell_type": "code",
   "execution_count": 8,
   "metadata": {},
   "outputs": [
    {
     "name": "stdout",
     "output_type": "stream",
     "text": [
      "Total validation images: 24\n"
     ]
    }
   ],
   "source": [
    "print(f\"Total validation images: {len(val_ds)}\")"
   ]
  },
  {
   "cell_type": "markdown",
   "metadata": {},
   "source": [
    "___"
   ]
  },
  {
   "cell_type": "code",
   "execution_count": 9,
   "metadata": {},
   "outputs": [],
   "source": [
    "from inpaint.core.generator import GatedGenerator\n",
    "from inpaint.tools import Evaluate\n",
    "import glob"
   ]
  },
  {
   "cell_type": "markdown",
   "metadata": {},
   "source": [
    "___\n",
    "\n",
    "1. Initialize generator from a saved checkpoint"
   ]
  },
  {
   "cell_type": "code",
   "execution_count": 10,
   "metadata": {},
   "outputs": [
    {
     "name": "stdout",
     "output_type": "stream",
     "text": [
      "['../../checkpoints/exp1/best_models_final.pth', '../../checkpoints/exp1/ckpt_epoch1.pth', '../../checkpoints/exp1/ckpt_epoch30.pth']\n"
     ]
    },
    {
     "data": {
      "text/plain": [
       "GatedGenerator(\n",
       "  (coarse): Sequential(\n",
       "    (0): GatedConv2d(\n",
       "      (pad): ZeroPad2d(padding=(2, 2, 2, 2), value=0.0)\n",
       "      (activation): ELU(alpha=1.0)\n",
       "      (conv2d): Conv2d(4, 64, kernel_size=(5, 5), stride=(1, 1))\n",
       "      (mask_conv2d): Conv2d(4, 64, kernel_size=(5, 5), stride=(1, 1))\n",
       "      (sigmoid): Sigmoid()\n",
       "    )\n",
       "    (1): GatedConv2d(\n",
       "      (pad): ZeroPad2d(padding=(1, 1, 1, 1), value=0.0)\n",
       "      (activation): ELU(alpha=1.0)\n",
       "      (conv2d): Conv2d(64, 128, kernel_size=(3, 3), stride=(2, 2))\n",
       "      (mask_conv2d): Conv2d(64, 128, kernel_size=(3, 3), stride=(2, 2))\n",
       "      (sigmoid): Sigmoid()\n",
       "    )\n",
       "    (2): GatedConv2d(\n",
       "      (pad): ZeroPad2d(padding=(1, 1, 1, 1), value=0.0)\n",
       "      (activation): ELU(alpha=1.0)\n",
       "      (conv2d): Conv2d(128, 128, kernel_size=(3, 3), stride=(1, 1))\n",
       "      (mask_conv2d): Conv2d(128, 128, kernel_size=(3, 3), stride=(1, 1))\n",
       "      (sigmoid): Sigmoid()\n",
       "    )\n",
       "    (3): GatedConv2d(\n",
       "      (pad): ZeroPad2d(padding=(1, 1, 1, 1), value=0.0)\n",
       "      (activation): ELU(alpha=1.0)\n",
       "      (conv2d): Conv2d(128, 256, kernel_size=(3, 3), stride=(2, 2))\n",
       "      (mask_conv2d): Conv2d(128, 256, kernel_size=(3, 3), stride=(2, 2))\n",
       "      (sigmoid): Sigmoid()\n",
       "    )\n",
       "    (4): GatedConv2d(\n",
       "      (pad): ZeroPad2d(padding=(1, 1, 1, 1), value=0.0)\n",
       "      (activation): ELU(alpha=1.0)\n",
       "      (conv2d): Conv2d(256, 256, kernel_size=(3, 3), stride=(1, 1))\n",
       "      (mask_conv2d): Conv2d(256, 256, kernel_size=(3, 3), stride=(1, 1))\n",
       "      (sigmoid): Sigmoid()\n",
       "    )\n",
       "    (5): GatedConv2d(\n",
       "      (pad): ZeroPad2d(padding=(1, 1, 1, 1), value=0.0)\n",
       "      (activation): ELU(alpha=1.0)\n",
       "      (conv2d): Conv2d(256, 256, kernel_size=(3, 3), stride=(1, 1))\n",
       "      (mask_conv2d): Conv2d(256, 256, kernel_size=(3, 3), stride=(1, 1))\n",
       "      (sigmoid): Sigmoid()\n",
       "    )\n",
       "    (6): GatedConv2d(\n",
       "      (pad): ZeroPad2d(padding=(2, 2, 2, 2), value=0.0)\n",
       "      (activation): ELU(alpha=1.0)\n",
       "      (conv2d): Conv2d(256, 256, kernel_size=(3, 3), stride=(1, 1), dilation=(2, 2))\n",
       "      (mask_conv2d): Conv2d(256, 256, kernel_size=(3, 3), stride=(1, 1), dilation=(2, 2))\n",
       "      (sigmoid): Sigmoid()\n",
       "    )\n",
       "    (7): GatedConv2d(\n",
       "      (pad): ZeroPad2d(padding=(4, 4, 4, 4), value=0.0)\n",
       "      (activation): ELU(alpha=1.0)\n",
       "      (conv2d): Conv2d(256, 256, kernel_size=(3, 3), stride=(1, 1), dilation=(4, 4))\n",
       "      (mask_conv2d): Conv2d(256, 256, kernel_size=(3, 3), stride=(1, 1), dilation=(4, 4))\n",
       "      (sigmoid): Sigmoid()\n",
       "    )\n",
       "    (8): GatedConv2d(\n",
       "      (pad): ZeroPad2d(padding=(8, 8, 8, 8), value=0.0)\n",
       "      (activation): ELU(alpha=1.0)\n",
       "      (conv2d): Conv2d(256, 256, kernel_size=(3, 3), stride=(1, 1), dilation=(8, 8))\n",
       "      (mask_conv2d): Conv2d(256, 256, kernel_size=(3, 3), stride=(1, 1), dilation=(8, 8))\n",
       "      (sigmoid): Sigmoid()\n",
       "    )\n",
       "    (9): GatedConv2d(\n",
       "      (pad): ZeroPad2d(padding=(16, 16, 16, 16), value=0.0)\n",
       "      (activation): ELU(alpha=1.0)\n",
       "      (conv2d): Conv2d(256, 256, kernel_size=(3, 3), stride=(1, 1), dilation=(16, 16))\n",
       "      (mask_conv2d): Conv2d(256, 256, kernel_size=(3, 3), stride=(1, 1), dilation=(16, 16))\n",
       "      (sigmoid): Sigmoid()\n",
       "    )\n",
       "    (10): GatedConv2d(\n",
       "      (pad): ZeroPad2d(padding=(1, 1, 1, 1), value=0.0)\n",
       "      (activation): ELU(alpha=1.0)\n",
       "      (conv2d): Conv2d(256, 256, kernel_size=(3, 3), stride=(1, 1))\n",
       "      (mask_conv2d): Conv2d(256, 256, kernel_size=(3, 3), stride=(1, 1))\n",
       "      (sigmoid): Sigmoid()\n",
       "    )\n",
       "    (11): GatedConv2d(\n",
       "      (pad): ZeroPad2d(padding=(1, 1, 1, 1), value=0.0)\n",
       "      (activation): ELU(alpha=1.0)\n",
       "      (conv2d): Conv2d(256, 256, kernel_size=(3, 3), stride=(1, 1))\n",
       "      (mask_conv2d): Conv2d(256, 256, kernel_size=(3, 3), stride=(1, 1))\n",
       "      (sigmoid): Sigmoid()\n",
       "    )\n",
       "    (12): TransposeGatedConv2d(\n",
       "      (gated_conv2d): GatedConv2d(\n",
       "        (pad): ZeroPad2d(padding=(1, 1, 1, 1), value=0.0)\n",
       "        (activation): ELU(alpha=1.0)\n",
       "        (conv2d): Conv2d(256, 128, kernel_size=(3, 3), stride=(1, 1))\n",
       "        (mask_conv2d): Conv2d(256, 128, kernel_size=(3, 3), stride=(1, 1))\n",
       "        (sigmoid): Sigmoid()\n",
       "      )\n",
       "    )\n",
       "    (13): GatedConv2d(\n",
       "      (pad): ZeroPad2d(padding=(1, 1, 1, 1), value=0.0)\n",
       "      (activation): ELU(alpha=1.0)\n",
       "      (conv2d): Conv2d(128, 128, kernel_size=(3, 3), stride=(1, 1))\n",
       "      (mask_conv2d): Conv2d(128, 128, kernel_size=(3, 3), stride=(1, 1))\n",
       "      (sigmoid): Sigmoid()\n",
       "    )\n",
       "    (14): TransposeGatedConv2d(\n",
       "      (gated_conv2d): GatedConv2d(\n",
       "        (pad): ZeroPad2d(padding=(1, 1, 1, 1), value=0.0)\n",
       "        (activation): ELU(alpha=1.0)\n",
       "        (conv2d): Conv2d(128, 64, kernel_size=(3, 3), stride=(1, 1))\n",
       "        (mask_conv2d): Conv2d(128, 64, kernel_size=(3, 3), stride=(1, 1))\n",
       "        (sigmoid): Sigmoid()\n",
       "      )\n",
       "    )\n",
       "    (15): GatedConv2d(\n",
       "      (pad): ZeroPad2d(padding=(1, 1, 1, 1), value=0.0)\n",
       "      (activation): ELU(alpha=1.0)\n",
       "      (conv2d): Conv2d(64, 32, kernel_size=(3, 3), stride=(1, 1))\n",
       "      (mask_conv2d): Conv2d(64, 32, kernel_size=(3, 3), stride=(1, 1))\n",
       "      (sigmoid): Sigmoid()\n",
       "    )\n",
       "    (16): GatedConv2d(\n",
       "      (pad): ZeroPad2d(padding=(1, 1, 1, 1), value=0.0)\n",
       "      (conv2d): Conv2d(32, 3, kernel_size=(3, 3), stride=(1, 1))\n",
       "      (mask_conv2d): Conv2d(32, 3, kernel_size=(3, 3), stride=(1, 1))\n",
       "      (sigmoid): Sigmoid()\n",
       "    )\n",
       "    (17): Tanh()\n",
       "  )\n",
       "  (refine_conv): Sequential(\n",
       "    (0): GatedConv2d(\n",
       "      (pad): ZeroPad2d(padding=(2, 2, 2, 2), value=0.0)\n",
       "      (activation): ELU(alpha=1.0)\n",
       "      (conv2d): Conv2d(4, 64, kernel_size=(5, 5), stride=(1, 1))\n",
       "      (mask_conv2d): Conv2d(4, 64, kernel_size=(5, 5), stride=(1, 1))\n",
       "      (sigmoid): Sigmoid()\n",
       "    )\n",
       "    (1): GatedConv2d(\n",
       "      (pad): ZeroPad2d(padding=(1, 1, 1, 1), value=0.0)\n",
       "      (activation): ELU(alpha=1.0)\n",
       "      (conv2d): Conv2d(64, 64, kernel_size=(3, 3), stride=(2, 2))\n",
       "      (mask_conv2d): Conv2d(64, 64, kernel_size=(3, 3), stride=(2, 2))\n",
       "      (sigmoid): Sigmoid()\n",
       "    )\n",
       "    (2): GatedConv2d(\n",
       "      (pad): ZeroPad2d(padding=(1, 1, 1, 1), value=0.0)\n",
       "      (activation): ELU(alpha=1.0)\n",
       "      (conv2d): Conv2d(64, 128, kernel_size=(3, 3), stride=(1, 1))\n",
       "      (mask_conv2d): Conv2d(64, 128, kernel_size=(3, 3), stride=(1, 1))\n",
       "      (sigmoid): Sigmoid()\n",
       "    )\n",
       "    (3): GatedConv2d(\n",
       "      (pad): ZeroPad2d(padding=(1, 1, 1, 1), value=0.0)\n",
       "      (activation): ELU(alpha=1.0)\n",
       "      (conv2d): Conv2d(128, 128, kernel_size=(3, 3), stride=(2, 2))\n",
       "      (mask_conv2d): Conv2d(128, 128, kernel_size=(3, 3), stride=(2, 2))\n",
       "      (sigmoid): Sigmoid()\n",
       "    )\n",
       "    (4): GatedConv2d(\n",
       "      (pad): ZeroPad2d(padding=(1, 1, 1, 1), value=0.0)\n",
       "      (activation): ELU(alpha=1.0)\n",
       "      (conv2d): Conv2d(128, 256, kernel_size=(3, 3), stride=(1, 1))\n",
       "      (mask_conv2d): Conv2d(128, 256, kernel_size=(3, 3), stride=(1, 1))\n",
       "      (sigmoid): Sigmoid()\n",
       "    )\n",
       "    (5): GatedConv2d(\n",
       "      (pad): ZeroPad2d(padding=(1, 1, 1, 1), value=0.0)\n",
       "      (activation): ELU(alpha=1.0)\n",
       "      (conv2d): Conv2d(256, 256, kernel_size=(3, 3), stride=(1, 1))\n",
       "      (mask_conv2d): Conv2d(256, 256, kernel_size=(3, 3), stride=(1, 1))\n",
       "      (sigmoid): Sigmoid()\n",
       "    )\n",
       "    (6): GatedConv2d(\n",
       "      (pad): ZeroPad2d(padding=(2, 2, 2, 2), value=0.0)\n",
       "      (activation): ELU(alpha=1.0)\n",
       "      (conv2d): Conv2d(256, 256, kernel_size=(3, 3), stride=(1, 1), dilation=(2, 2))\n",
       "      (mask_conv2d): Conv2d(256, 256, kernel_size=(3, 3), stride=(1, 1), dilation=(2, 2))\n",
       "      (sigmoid): Sigmoid()\n",
       "    )\n",
       "    (7): GatedConv2d(\n",
       "      (pad): ZeroPad2d(padding=(4, 4, 4, 4), value=0.0)\n",
       "      (activation): ELU(alpha=1.0)\n",
       "      (conv2d): Conv2d(256, 256, kernel_size=(3, 3), stride=(1, 1), dilation=(4, 4))\n",
       "      (mask_conv2d): Conv2d(256, 256, kernel_size=(3, 3), stride=(1, 1), dilation=(4, 4))\n",
       "      (sigmoid): Sigmoid()\n",
       "    )\n",
       "    (8): GatedConv2d(\n",
       "      (pad): ZeroPad2d(padding=(8, 8, 8, 8), value=0.0)\n",
       "      (activation): ELU(alpha=1.0)\n",
       "      (conv2d): Conv2d(256, 256, kernel_size=(3, 3), stride=(1, 1), dilation=(8, 8))\n",
       "      (mask_conv2d): Conv2d(256, 256, kernel_size=(3, 3), stride=(1, 1), dilation=(8, 8))\n",
       "      (sigmoid): Sigmoid()\n",
       "    )\n",
       "    (9): GatedConv2d(\n",
       "      (pad): ZeroPad2d(padding=(16, 16, 16, 16), value=0.0)\n",
       "      (activation): ELU(alpha=1.0)\n",
       "      (conv2d): Conv2d(256, 256, kernel_size=(3, 3), stride=(1, 1), dilation=(16, 16))\n",
       "      (mask_conv2d): Conv2d(256, 256, kernel_size=(3, 3), stride=(1, 1), dilation=(16, 16))\n",
       "      (sigmoid): Sigmoid()\n",
       "    )\n",
       "  )\n",
       "  (refine_atten_1): Sequential(\n",
       "    (0): GatedConv2d(\n",
       "      (pad): ZeroPad2d(padding=(2, 2, 2, 2), value=0.0)\n",
       "      (activation): ELU(alpha=1.0)\n",
       "      (conv2d): Conv2d(4, 64, kernel_size=(5, 5), stride=(1, 1))\n",
       "      (mask_conv2d): Conv2d(4, 64, kernel_size=(5, 5), stride=(1, 1))\n",
       "      (sigmoid): Sigmoid()\n",
       "    )\n",
       "    (1): GatedConv2d(\n",
       "      (pad): ZeroPad2d(padding=(1, 1, 1, 1), value=0.0)\n",
       "      (activation): ELU(alpha=1.0)\n",
       "      (conv2d): Conv2d(64, 64, kernel_size=(3, 3), stride=(2, 2))\n",
       "      (mask_conv2d): Conv2d(64, 64, kernel_size=(3, 3), stride=(2, 2))\n",
       "      (sigmoid): Sigmoid()\n",
       "    )\n",
       "    (2): GatedConv2d(\n",
       "      (pad): ZeroPad2d(padding=(1, 1, 1, 1), value=0.0)\n",
       "      (activation): ELU(alpha=1.0)\n",
       "      (conv2d): Conv2d(64, 128, kernel_size=(3, 3), stride=(1, 1))\n",
       "      (mask_conv2d): Conv2d(64, 128, kernel_size=(3, 3), stride=(1, 1))\n",
       "      (sigmoid): Sigmoid()\n",
       "    )\n",
       "    (3): GatedConv2d(\n",
       "      (pad): ZeroPad2d(padding=(1, 1, 1, 1), value=0.0)\n",
       "      (activation): ELU(alpha=1.0)\n",
       "      (conv2d): Conv2d(128, 256, kernel_size=(3, 3), stride=(2, 2))\n",
       "      (mask_conv2d): Conv2d(128, 256, kernel_size=(3, 3), stride=(2, 2))\n",
       "      (sigmoid): Sigmoid()\n",
       "    )\n",
       "    (4): GatedConv2d(\n",
       "      (pad): ZeroPad2d(padding=(1, 1, 1, 1), value=0.0)\n",
       "      (activation): ELU(alpha=1.0)\n",
       "      (conv2d): Conv2d(256, 256, kernel_size=(3, 3), stride=(1, 1))\n",
       "      (mask_conv2d): Conv2d(256, 256, kernel_size=(3, 3), stride=(1, 1))\n",
       "      (sigmoid): Sigmoid()\n",
       "    )\n",
       "    (5): GatedConv2d(\n",
       "      (pad): ZeroPad2d(padding=(1, 1, 1, 1), value=0.0)\n",
       "      (activation): ReLU(inplace=True)\n",
       "      (conv2d): Conv2d(256, 256, kernel_size=(3, 3), stride=(1, 1))\n",
       "      (mask_conv2d): Conv2d(256, 256, kernel_size=(3, 3), stride=(1, 1))\n",
       "      (sigmoid): Sigmoid()\n",
       "    )\n",
       "  )\n",
       "  (refine_atten_2): Sequential(\n",
       "    (0): GatedConv2d(\n",
       "      (pad): ZeroPad2d(padding=(1, 1, 1, 1), value=0.0)\n",
       "      (activation): ELU(alpha=1.0)\n",
       "      (conv2d): Conv2d(256, 256, kernel_size=(3, 3), stride=(1, 1))\n",
       "      (mask_conv2d): Conv2d(256, 256, kernel_size=(3, 3), stride=(1, 1))\n",
       "      (sigmoid): Sigmoid()\n",
       "    )\n",
       "    (1): GatedConv2d(\n",
       "      (pad): ZeroPad2d(padding=(1, 1, 1, 1), value=0.0)\n",
       "      (activation): ELU(alpha=1.0)\n",
       "      (conv2d): Conv2d(256, 256, kernel_size=(3, 3), stride=(1, 1))\n",
       "      (mask_conv2d): Conv2d(256, 256, kernel_size=(3, 3), stride=(1, 1))\n",
       "      (sigmoid): Sigmoid()\n",
       "    )\n",
       "  )\n",
       "  (refine_combine): Sequential(\n",
       "    (0): GatedConv2d(\n",
       "      (pad): ZeroPad2d(padding=(1, 1, 1, 1), value=0.0)\n",
       "      (activation): ELU(alpha=1.0)\n",
       "      (conv2d): Conv2d(512, 256, kernel_size=(3, 3), stride=(1, 1))\n",
       "      (mask_conv2d): Conv2d(512, 256, kernel_size=(3, 3), stride=(1, 1))\n",
       "      (sigmoid): Sigmoid()\n",
       "    )\n",
       "    (1): GatedConv2d(\n",
       "      (pad): ZeroPad2d(padding=(1, 1, 1, 1), value=0.0)\n",
       "      (activation): ELU(alpha=1.0)\n",
       "      (conv2d): Conv2d(256, 256, kernel_size=(3, 3), stride=(1, 1))\n",
       "      (mask_conv2d): Conv2d(256, 256, kernel_size=(3, 3), stride=(1, 1))\n",
       "      (sigmoid): Sigmoid()\n",
       "    )\n",
       "    (2): TransposeGatedConv2d(\n",
       "      (gated_conv2d): GatedConv2d(\n",
       "        (pad): ZeroPad2d(padding=(1, 1, 1, 1), value=0.0)\n",
       "        (activation): ELU(alpha=1.0)\n",
       "        (conv2d): Conv2d(256, 128, kernel_size=(3, 3), stride=(1, 1))\n",
       "        (mask_conv2d): Conv2d(256, 128, kernel_size=(3, 3), stride=(1, 1))\n",
       "        (sigmoid): Sigmoid()\n",
       "      )\n",
       "    )\n",
       "    (3): GatedConv2d(\n",
       "      (pad): ZeroPad2d(padding=(1, 1, 1, 1), value=0.0)\n",
       "      (activation): ELU(alpha=1.0)\n",
       "      (conv2d): Conv2d(128, 128, kernel_size=(3, 3), stride=(1, 1))\n",
       "      (mask_conv2d): Conv2d(128, 128, kernel_size=(3, 3), stride=(1, 1))\n",
       "      (sigmoid): Sigmoid()\n",
       "    )\n",
       "    (4): TransposeGatedConv2d(\n",
       "      (gated_conv2d): GatedConv2d(\n",
       "        (pad): ZeroPad2d(padding=(1, 1, 1, 1), value=0.0)\n",
       "        (activation): ELU(alpha=1.0)\n",
       "        (conv2d): Conv2d(128, 64, kernel_size=(3, 3), stride=(1, 1))\n",
       "        (mask_conv2d): Conv2d(128, 64, kernel_size=(3, 3), stride=(1, 1))\n",
       "        (sigmoid): Sigmoid()\n",
       "      )\n",
       "    )\n",
       "    (5): GatedConv2d(\n",
       "      (pad): ZeroPad2d(padding=(1, 1, 1, 1), value=0.0)\n",
       "      (activation): ELU(alpha=1.0)\n",
       "      (conv2d): Conv2d(64, 32, kernel_size=(3, 3), stride=(1, 1))\n",
       "      (mask_conv2d): Conv2d(64, 32, kernel_size=(3, 3), stride=(1, 1))\n",
       "      (sigmoid): Sigmoid()\n",
       "    )\n",
       "    (6): GatedConv2d(\n",
       "      (pad): ZeroPad2d(padding=(1, 1, 1, 1), value=0.0)\n",
       "      (conv2d): Conv2d(32, 3, kernel_size=(3, 3), stride=(1, 1))\n",
       "      (mask_conv2d): Conv2d(32, 3, kernel_size=(3, 3), stride=(1, 1))\n",
       "      (sigmoid): Sigmoid()\n",
       "    )\n",
       "    (7): Tanh()\n",
       "  )\n",
       "  (context_attention): ContextualAttention()\n",
       ")"
      ]
     },
     "execution_count": 10,
     "metadata": {},
     "output_type": "execute_result"
    }
   ],
   "source": [
    "# load checkpoint and initialize\n",
    "checkpoints_dir= '../../checkpoints/exp1'\n",
    "\n",
    "checkpointslist= (glob.glob(\"../../checkpoints/exp1/*.pth\")) \n",
    "\n",
    "# checkpointslist = os.listdir(checkpoints_dir)\n",
    "print(checkpointslist)\n",
    "\n",
    "best_model_index = checkpointslist.index('../../checkpoints/exp1/best_models_final.pth')\n",
    "\n",
    "best_model = checkpointslist[best_model_index]\n",
    "# print(best_model)\n",
    "\n",
    "val_steps = cfg.val_steps\n",
    "generator = GatedGenerator(cfg)\n",
    "# generator = None\n",
    "if torch.cuda.is_available():\n",
    "    device = torch.device(\"cuda\")\n",
    "else:\n",
    "    device = torch.device(\"cpu\")\n",
    "\n",
    "models = torch.load(best_model, map_location=device )\n",
    "gen_model_state_dict = models[\"generator_state_dict\"]\n",
    "generator.load_state_dict(gen_model_state_dict)\n",
    "#Nocuda\n",
    "# device = torch.device('cpu')\n",
    "#with cuda\n",
    "# device = torch.device(cfg.device_id)\n",
    "\n",
    "generator.to(device)\n",
    "generator.eval()"
   ]
  },
  {
   "cell_type": "markdown",
   "metadata": {},
   "source": [
    "___\n",
    "\n",
    "2. Create Evaluate instance pass dataloader and generator instance to Evaluate "
   ]
  },
  {
   "cell_type": "code",
   "execution_count": 11,
   "metadata": {
    "pycharm": {
     "is_executing": true,
     "name": "#%%\n"
    }
   },
   "outputs": [],
   "source": [
    "eval_gen = Evaluate(generator,val_loader, val_steps)"
   ]
  },
  {
   "cell_type": "markdown",
   "metadata": {},
   "source": [
    "____\n",
    "3. Evaluate (return avg psnr and avg ssim value"
   ]
  },
  {
   "cell_type": "code",
   "execution_count": 12,
   "metadata": {
    "pycharm": {
     "name": "#%%\n"
    }
   },
   "outputs": [
    {
     "name": "stderr",
     "output_type": "stream",
     "text": [
      "/Users/aadit/miniconda3/envs/inpaint/lib/python3.8/site-packages/torch/nn/functional.py:3679: UserWarning: The default behavior for interpolate/upsample with float scale_factor changed in 1.6.0 to align with other frameworks/libraries, and now uses scale_factor directly, instead of relying on the computed output size. If you wish to restore the old behavior, please set recompute_scale_factor=True. See the documentation of nn.Upsample for details. \n",
      "  warnings.warn(\n",
      "/Users/aadit/miniconda3/envs/inpaint/lib/python3.8/site-packages/inpaint-0.1.0-py3.8.egg/inpaint/core/modules/attention.py:194: UserWarning: __floordiv__ is deprecated, and its behavior will change in a future version of pytorch. It currently rounds toward 0 (like the 'trunc' function NOT 'floor'). This results in incorrect rounding for negative values. To keep the current behavior, use torch.div(a, b, rounding_mode='trunc'), or for actual floor division, use torch.div(a, b, rounding_mode='floor').\n",
      "/Users/aadit/miniconda3/envs/inpaint/lib/python3.8/site-packages/inpaint-0.1.0-py3.8.egg/inpaint/utils/metrics.py:19: FutureWarning: `multichannel` is a deprecated argument name for `structural_similarity`. It will be removed in version 1.0. Please use `channel_axis` instead.\n",
      "/Users/aadit/miniconda3/envs/inpaint/lib/python3.8/site-packages/torchvision/io/image.py:11: UserWarning: Failed to load image Python extension: \n",
      "  warn(f\"Failed to load image Python extension: {e}\")\n",
      "/Users/aadit/miniconda3/envs/inpaint/lib/python3.8/site-packages/torchvision/io/image.py:11: UserWarning: Failed to load image Python extension: \n",
      "  warn(f\"Failed to load image Python extension: {e}\")\n"
     ]
    }
   ],
   "source": [
    "avg_psnr, avg_ssim = eval_gen.evaluate()"
   ]
  },
  {
   "cell_type": "code",
   "execution_count": 13,
   "metadata": {
    "pycharm": {
     "name": "#%%\n"
    }
   },
   "outputs": [
    {
     "name": "stdout",
     "output_type": "stream",
     "text": [
      "71.40488835220044 0.9004945928851763\n"
     ]
    }
   ],
   "source": [
    "print(avg_psnr, avg_ssim)"
   ]
  },
  {
   "cell_type": "code",
   "execution_count": null,
   "metadata": {
    "pycharm": {
     "name": "#%%\n"
    }
   },
   "outputs": [],
   "source": []
  },
  {
   "cell_type": "code",
   "execution_count": null,
   "metadata": {},
   "outputs": [],
   "source": []
  }
 ],
 "metadata": {
  "kernelspec": {
   "display_name": "Python 3 (ipykernel)",
   "language": "python",
   "name": "python3"
  },
  "language_info": {
   "codemirror_mode": {
    "name": "ipython",
    "version": 3
   },
   "file_extension": ".py",
   "mimetype": "text/x-python",
   "name": "python",
   "nbconvert_exporter": "python",
   "pygments_lexer": "ipython3",
   "version": "3.8.13"
  }
 },
 "nbformat": 4,
 "nbformat_minor": 4
}

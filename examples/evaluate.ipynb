{
 "cells": [
  {
   "cell_type": "code",
   "execution_count": 1,
   "metadata": {},
   "outputs": [],
   "source": [
    "import sys\n",
    "\n",
    "sys.argv = [\"\"]\n",
    "del sys\n",
    "\n",
    "import warnings\n",
    "warnings.filterwarnings('ignore')"
   ]
  },
  {
   "cell_type": "code",
   "execution_count": 2,
   "metadata": {
    "pycharm": {
     "is_executing": true
    }
   },
   "outputs": [],
   "source": [
    "import argparse\n",
    "import os\n",
    "\n",
    "import numpy as np\n",
    "import torch\n",
    "from torch.utils.data import DataLoader\n",
    "\n",
    "from inpaint.data import PlacesDataset "
   ]
  },
  {
   "cell_type": "code",
   "execution_count": 3,
   "metadata": {},
   "outputs": [],
   "source": [
    "def flipCoin():\n",
    "    f = random.random()\n",
    "    return True if f < 0.5 else False"
   ]
  },
  {
   "cell_type": "code",
   "execution_count": 4,
   "metadata": {},
   "outputs": [],
   "source": [
    "def create_cfg(args):\n",
    "    parser = argparse.ArgumentParser()\n",
    "    for key, val in args.items():\n",
    "        parser.add_argument(key, default=val)\n",
    "\n",
    "    cfg = parser.parse_args()\n",
    "    return cfg"
   ]
  },
  {
   "cell_type": "code",
   "execution_count": 5,
   "metadata": {
    "pycharm": {
     "name": "#%%\n"
    }
   },
   "outputs": [],
   "source": [
    "args = {}\n",
    "\n",
    "# dataset config\n",
    "args[\"--val_ds_dir\"] = '../../../../Datasets/Places365_Standard/val_large'\n",
    "args[\"--crop_size\"] = (256, 256)\n",
    "args[\"--batch_size\"] =  1\n",
    "args[\"--num_workers\"] = 1"
   ]
  },
  {
   "cell_type": "code",
   "execution_count": 6,
   "metadata": {
    "pycharm": {
     "name": "#%%\n"
    }
   },
   "outputs": [],
   "source": [
    "cfg = create_cfg(args)"
   ]
  },
  {
   "cell_type": "code",
   "execution_count": 7,
   "metadata": {},
   "outputs": [
    {
     "name": "stdout",
     "output_type": "stream",
     "text": [
      "Total validation images: 5000\n"
     ]
    }
   ],
   "source": [
    "val_ds = PlacesDataset(path_dir = cfg.val_ds_dir, transform_config=('to_tensor', 'center_crop', 'norm'), crop_size=cfg.crop_size)\n",
    "val_ds.imglist = val_ds.imglist[:5000]\n",
    "print(f\"Total validation images: {len(val_ds)}\")"
   ]
  },
  {
   "cell_type": "code",
   "execution_count": 8,
   "metadata": {},
   "outputs": [],
   "source": [
    "val_loader = DataLoader(val_ds, batch_size=cfg.batch_size, shuffle=True, pin_memory=True, num_workers=cfg.num_workers)"
   ]
  },
  {
   "cell_type": "markdown",
   "metadata": {},
   "source": [
    "___"
   ]
  },
  {
   "cell_type": "code",
   "execution_count": 9,
   "metadata": {},
   "outputs": [],
   "source": [
    "from inpaint.core.generator import GatedGenerator\n",
    "from inpaint.tools import Evaluate\n",
    "import glob"
   ]
  },
  {
   "cell_type": "markdown",
   "metadata": {},
   "source": [
    "___\n",
    "\n",
    "1. Initialize generator from a saved checkpoint"
   ]
  },
  {
   "cell_type": "code",
   "execution_count": 10,
   "metadata": {},
   "outputs": [],
   "source": [
    "args = {}\n",
    "\n",
    "# model | generator config\n",
    "args[\"--in_channels\"] = 4\n",
    "args[\"--out_channels\"] = 3\n",
    "args[\"--latent_channels\"] = 64\n",
    "args[\"--pad_type\"] = \"zero\"\n",
    "args[\"--activation\"] = \"elu\"\n",
    "args[\"--norm_d\"] = \"none\"\n",
    "args[\"--norm_g\"] = \"batch\"\n",
    "args[\"--init_type\"] = \"kaiming\"\n",
    "args[\"--init_gain\"] = 0.02\n",
    "args[\"--use_cuda\"] = True\n",
    "args[\"--use_perceptualnet\"] = True\n",
    "args[\"--sn_enable\"] = True\n",
    "args[\"--add_context_attention\"] = True"
   ]
  },
  {
   "cell_type": "code",
   "execution_count": 11,
   "metadata": {},
   "outputs": [],
   "source": [
    "cfg = create_cfg(args)"
   ]
  },
  {
   "cell_type": "code",
   "execution_count": 12,
   "metadata": {},
   "outputs": [
    {
     "data": {
      "text/plain": [
       "<All keys matched successfully>"
      ]
     },
     "execution_count": 12,
     "metadata": {},
     "output_type": "execute_result"
    }
   ],
   "source": [
    "generator = GatedGenerator(cfg)\n",
    "\n",
    "ckpt_path = \"../../../experiments/inpaint/ckpts/exp11/best_models_final.pth\"\n",
    "\n",
    "models = torch.load(ckpt_path, map_location=torch.device('cpu'))\n",
    "gen_model_state_dict = models[\"generator_state_dict\"]\n",
    "\n",
    "generator.load_state_dict(gen_model_state_dict)"
   ]
  },
  {
   "cell_type": "markdown",
   "metadata": {},
   "source": [
    "___\n",
    "\n",
    "2. Create Evaluate instance pass dataloader and generator instance to Evaluate "
   ]
  },
  {
   "cell_type": "code",
   "execution_count": 13,
   "metadata": {
    "pycharm": {
     "is_executing": true,
     "name": "#%%\n"
    }
   },
   "outputs": [],
   "source": [
    "eval_gen = Evaluate(generator,val_loader)"
   ]
  },
  {
   "cell_type": "markdown",
   "metadata": {},
   "source": [
    "____\n",
    "3. Evaluate (return avg psnr and avg ssim value"
   ]
  },
  {
   "cell_type": "code",
   "execution_count": 14,
   "metadata": {
    "pycharm": {
     "name": "#%%\n"
    }
   },
   "outputs": [
    {
     "data": {
      "text/plain": [
       "(70.65689195655214, 0.9059241479516029)"
      ]
     },
     "execution_count": 14,
     "metadata": {},
     "output_type": "execute_result"
    }
   ],
   "source": [
    "avg_psnr, avg_ssim = eval_gen.evaluate()\n",
    "avg_psnr, avg_ssim"
   ]
  },
  {
   "cell_type": "code",
   "execution_count": null,
   "metadata": {},
   "outputs": [],
   "source": []
  }
 ],
 "metadata": {
  "kernelspec": {
   "display_name": "Python 3 (ipykernel)",
   "language": "python",
   "name": "python3"
  },
  "language_info": {
   "codemirror_mode": {
    "name": "ipython",
    "version": 3
   },
   "file_extension": ".py",
   "mimetype": "text/x-python",
   "name": "python",
   "nbconvert_exporter": "python",
   "pygments_lexer": "ipython3",
   "version": "3.8.12"
  }
 },
 "nbformat": 4,
 "nbformat_minor": 4
}

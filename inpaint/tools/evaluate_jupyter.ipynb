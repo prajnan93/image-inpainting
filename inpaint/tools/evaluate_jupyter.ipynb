{
 "cells": [
  {
   "cell_type": "code",
   "execution_count": null,
   "metadata": {
    "pycharm": {
     "is_executing": true
    }
   },
   "outputs": [],
   "source": [
    "import argparse\n",
    "import os\n",
    "from copy import deepcopy\n",
    "\n",
    "import numpy as np\n",
    "import torch\n",
    "import torch.nn as nn\n",
    "import torch.nn.functional as F\n",
    "from torch.utils.data import DataLoader\n",
    "from torch.utils.tensorboard import SummaryWriter\n",
    "\n",
    "from inpaint.data import PlacesDataset\n",
    "from inpaint.utils import random_bbox_mask, random_ff_mask\n",
    "from inpaint.utils.metrics import psnr\n",
    "from inpaint.utils.metrics import ssim\n",
    "import matplotlib.pyplot as plt\n",
    "from inpaint.core.generator import GatedGenerator\n",
    "from tests import test_models\n",
    "\n",
    "\n",
    "# from inpaint.core.modules import PerceptualNet\n",
    "\n",
    "# DataLoader(val_ds, batch_size= cfg.batch_size, shuffle=True, pin_memory=True,\n",
    "#                                 num_workers=cfg.num_workers)\n",
    "# args = {}\n",
    "# args[\"--in_channels\"] = 4\n",
    "# args[\"--out_channels\"] = 3\n",
    "# args[\"--latent_channels\"] = 64\n",
    "# args[\"--pad_type\"] = \"zero\"\n",
    "# args[\"--activation\"] = \"elu\"\n",
    "# args[\"--norm_d\"] = \"none\"\n",
    "# args[\"--norm_g\"] = \"batch\"\n",
    "# args[\"--init_type\"] = \"kaiming\"\n",
    "# args[\"--init_gain\"] = 0.02\n",
    "# args[\"--use_cuda\"] = False\n",
    "class Evaluate:\n",
    "    def __init__(self,cfg, val_loader):\n",
    "\n",
    "        self.cfg = cfg\n",
    "        # self.val_ds = PlacesDataset(path_dir= cfg.val_ds_dir, transform_config=('to_tensor', 'center_crop', 'norm'),\n",
    "        #                        crop_size=cfg.crop_size)\n",
    "        self.val_loader = val_loader\n",
    "    def create_cfg(self):\n",
    "        parser = argparse.ArgumentParser()\n",
    "        for key, val in self.args.items():\n",
    "            parser.add_argument(key, default=val)\n",
    "            # print(\"--\" + key, val)\n",
    "        cfg = parser.parse_args()\n",
    "        return cfg\n",
    "\n",
    "    def _create_mask(self, img):\n",
    "        B, C, H, W = img.shape\n",
    "        mask = torch.empty(B, 1, H, W).cuda()\n",
    "\n",
    "        # set the same masks for each batch\n",
    "        for i in range(B):\n",
    "            if self.cfg.mask_type.lower() == \"free_form\":\n",
    "                mask[i] = torch.from_numpy(\n",
    "                    random_ff_mask(\n",
    "                        shape=(H, W),\n",
    "                        max_angle=self.cfg.max_angle,\n",
    "                        max_len=self.cfg.max_len,\n",
    "                        max_width=self.cfg.max_width,\n",
    "                        times=self.cfg.mask_num,\n",
    "                    ).astype(np.float32)\n",
    "                )\n",
    "            else:\n",
    "                mask[i] = torch.from_numpy(\n",
    "                    random_bbox_mask(\n",
    "                        shape=(H, W),\n",
    "                        margin=self.cfg.margin,\n",
    "                        bbox_shape=self.cfg.bbox_shape,\n",
    "                        times=self.cfg.mask_num,\n",
    "                    ).astype(np.float32)\n",
    "                )\n",
    "\n",
    "        mask = mask.to(self.device)\n",
    "        return mask\n",
    "\n",
    "    def evaluate(self, checkpoints):\n",
    "        # Set models to eval state for validation\n",
    "        checkpointslist = os.listdir(checkpoints)\n",
    "        print(checkpointslist)\n",
    "        generator = GatedGenerator(self.cfg)\n",
    "        generator.eval()\n",
    "        # val_ds = PlacesDataset(path_dir=self.cfg.val_ds_dir, transform_config=('to_tensor', 'center_crop', 'norm'),\n",
    "        #                        crop_size=self.cfg.crop_size)\n",
    "        # val_loader = DataLoader(val_ds, batch_size=cfg.batch_size, shuffle=True, pin_memory=True,\n",
    "        #                         num_workers=cfg.num_workers)\n",
    "        val_iter = iter(self.val_loader)\n",
    "        ssim_vals = []\n",
    "        psnr_vals = []\n",
    "\n",
    "        ssim_avgs = []\n",
    "        psnr_avgs = []\n",
    "        with torch.no_grad():\n",
    "            for gen in checkpointslist:\n",
    "                gen_model = torch.load(gen)\n",
    "                gen_model_state_dict = gen_model[\"generator_state_dict\"]\n",
    "                generator.load_state_dict(gen_model_state_dict)\n",
    "                generator.eval()\n",
    "\n",
    "                for step in range(self.cfg.val_steps):\n",
    "                    try:\n",
    "                        img = next(val_iter)\n",
    "                    except:\n",
    "                        val_iter = iter(self.val_loader)\n",
    "                        img = next(val_iter)\n",
    "\n",
    "                    img = img.to(self.device)\n",
    "                    B, C, H, W = img.shape\n",
    "\n",
    "                    mask = self._create_mask(img)\n",
    "\n",
    "                    # Generate fake pixel values for the given mask and real images\n",
    "                    coarse_out, refine_out = generator(img, mask)\n",
    "\n",
    "                    coarse_out_wholeimg = img * (1 - mask) + coarse_out * mask\n",
    "                    refine_out_wholeimg = img * (1 - mask) + refine_out * mask\n",
    "\n",
    "                    psnr_val = psnr(refine_out_wholeimg, img)\n",
    "                    ssim_val = ssim(refine_out_wholeimg, img)\n",
    "                    psnr_vals.append(psnr_val)\n",
    "                    ssim_vals.append(ssim_val)\n",
    "                psnr_avgs.append(psnr_vals.mean())\n",
    "                ssim_avgs.append(ssim_vals.mean())\n",
    "\n",
    "        fig = plt.figure()\n",
    "        plt.plot(psnr_avgs)\n",
    "        fig.suptitle('PSNR', fontsize=20)\n",
    "        plt.xlabel('epochs', fontsize=18)\n",
    "        plt.ylabel('PSNR', fontsize=16)\n",
    "        fig.savefig('Network psnr.jpg')\n",
    "\n",
    "        fig2 = plt.figure()\n",
    "        plt.plot(ssim_avgs)\n",
    "        fig2.suptitle('SSIM', fontsize=20)\n",
    "        plt.xlabel('epochs', fontsize=18)\n",
    "        plt.ylabel('SSIM', fontsize=16)\n",
    "        fig2.savefig('Network ssim.jpg')\n",
    "\n",
    "\n"
   ]
  },
  {
   "cell_type": "code",
   "execution_count": null,
   "metadata": {
    "pycharm": {
     "name": "#%%\n"
    }
   },
   "outputs": [],
   "source": [
    "args = {}\n",
    "args[\"--in_channels\"] = 4\n",
    "args[\"--out_channels\"] = 3\n",
    "args[\"--latent_channels\"] = 64\n",
    "args[\"--pad_type\"] = \"zero\"\n",
    "args[\"--activation\"] = \"elu\"\n",
    "args[\"--norm_d\"] = \"none\"\n",
    "args[\"--norm_g\"] = \"batch\"\n",
    "args[\"--init_type\"] = \"kaiming\"\n",
    "args[\"--init_gain\"] = 0.02\n",
    "args[\"--use_cuda\"] = False\n",
    "def create_cfg(self):\n",
    "    parser = argparse.ArgumentParser()\n",
    "    for key, val in self.args.items():\n",
    "        parser.add_argument(key, default=val)\n",
    "        # print(\"--\" + key, val)\n",
    "    cfg = parser.parse_args()\n",
    "    return cfg\n",
    "\n",
    "cfg = create_cfg()"
   ]
  },
  {
   "cell_type": "code",
   "execution_count": null,
   "metadata": {
    "pycharm": {
     "name": "#%%\n"
    }
   },
   "outputs": [],
   "source": []
  },
  {
   "cell_type": "code",
   "execution_count": null,
   "metadata": {
    "pycharm": {
     "is_executing": true,
     "name": "#%%\n"
    }
   },
   "outputs": [],
   "source": [
    "\n",
    "\n",
    "val_ds = PlacesDataset(path_dir = cfg.val_ds_dir, transform_config=('to_tensor', 'center_crop', 'norm'), crop_size=cfg.crop_size)\n",
    "val_loader = DataLoader(val_ds, batch_size=cfg.batch_size, shuffle=True, pin_memory=True, num_workers=cfg.num_workers)\n",
    "\n",
    "eval = Evaluate(cfg,val_loader)\n",
    "\n",
    "# print(f\"Total validation images: {len(val_ds)}\")\n",
    "\n",
    "# eval = Evaluate()\n",
    "eval.evaluate(\"/Users/aadit/D/cs6140/project/FinalProject/checkpoints/exp1/best_models_final.pth\")"
   ]
  },
  {
   "cell_type": "code",
   "execution_count": null,
   "metadata": {
    "pycharm": {
     "name": "#%%\n"
    }
   },
   "outputs": [],
   "source": []
  },
  {
   "cell_type": "code",
   "execution_count": null,
   "metadata": {
    "pycharm": {
     "name": "#%%\n"
    }
   },
   "outputs": [],
   "source": []
  },
  {
   "cell_type": "code",
   "execution_count": null,
   "metadata": {
    "pycharm": {
     "name": "#%%\n"
    }
   },
   "outputs": [],
   "source": []
  }
 ],
 "metadata": {
  "kernelspec": {
   "display_name": "Python 3 (ipykernel)",
   "language": "python",
   "name": "python3"
  },
  "language_info": {
   "codemirror_mode": {
    "name": "ipython",
    "version": 3
   },
   "file_extension": ".py",
   "mimetype": "text/x-python",
   "name": "python",
   "nbconvert_exporter": "python",
   "pygments_lexer": "ipython3",
   "version": "3.8.13"
  }
 },
 "nbformat": 4,
 "nbformat_minor": 1
}

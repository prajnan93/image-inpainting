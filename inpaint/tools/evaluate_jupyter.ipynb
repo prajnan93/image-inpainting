{
 "cells": [
  {
   "cell_type": "code",
   "execution_count": 1,
   "metadata": {
    "pycharm": {
     "is_executing": true
    }
   },
   "outputs": [],
   "source": [
    "import argparse\n",
    "import os\n",
    "from copy import deepcopy\n",
    "\n",
    "import numpy as np\n",
    "import torch\n",
    "import torch.nn as nn\n",
    "import torch.nn.functional as F\n",
    "from torch.utils.data import DataLoader\n",
    "from torch.utils.tensorboard import SummaryWriter\n",
    "\n",
    "from inpaint.data import PlacesDataset\n",
    "from inpaint.utils import random_bbox_mask, random_ff_mask\n",
    "from inpaint.utils.metrics import psnr\n",
    "from inpaint.utils.metrics import ssim\n",
    "import matplotlib.pyplot as plt\n",
    "from inpaint.core.generator import GatedGenerator\n",
    "\n",
    "import random"
   ]
  },
  {
   "cell_type": "code",
   "execution_count": 2,
   "metadata": {},
   "outputs": [],
   "source": [
    "import sys\n",
    "\n",
    "sys.argv = [\"\"]\n",
    "del sys"
   ]
  },
  {
   "cell_type": "code",
   "execution_count": 3,
   "metadata": {},
   "outputs": [],
   "source": [
    "def flipCoin():\n",
    "    f = random.random()\n",
    "    return True if f < 0.5 else False"
   ]
  },
  {
   "cell_type": "code",
   "execution_count": 4,
   "metadata": {},
   "outputs": [],
   "source": [
    "class Evaluate:\n",
    "    def __init__(self, cfg, val_loader):\n",
    "        self.cfg = cfg\n",
    "        self.val_loader = val_loader\n",
    "        self.device = torch.device(cfg.device_id)\n",
    "        \n",
    "\n",
    "    def _create_mask(self, img):\n",
    "        flip = flipCoin()\n",
    "        B, C, H, W = img.shape\n",
    "        mask = torch.empty(B, 1, H, W).cuda()\n",
    "        # set the same masks for each batch\n",
    "        for i in range(B):\n",
    "            if flip == True: \n",
    "                # Free form mask\n",
    "                mask[i] = torch.from_numpy(\n",
    "                    random_ff_mask(\n",
    "                        shape=(H, W),\n",
    "                        max_angle=4,\n",
    "                        max_len=40,\n",
    "                        max_width=10,\n",
    "                        times=20,\n",
    "                    ).astype(np.float32)\n",
    "                )\n",
    "            else:\n",
    "                # Box mask\n",
    "                mask[i] = torch.from_numpy(\n",
    "                    random_bbox_mask(\n",
    "                        shape=(H, W),\n",
    "                        margin=(10,10),\n",
    "                        bbox_shape=(30,30),\n",
    "                        times=20,\n",
    "                    ).astype(np.float32)\n",
    "                )\n",
    "            \n",
    "        mask = mask.to(self.device)\n",
    "        return mask\n",
    "\n",
    "    def evaluate(self, checkpoints_dir):\n",
    "        # Set models to eval state for validation\n",
    "        checkpointslist = os.listdir(checkpoints_dir)\n",
    "        \n",
    "        for i in range(len(checkpointslist)):\n",
    "            checkpointslist[i] = checkpoints_dir + \"/\" + checkpointslist[i] \n",
    "            \n",
    "        #print(checkpointslist)\n",
    "        generator = GatedGenerator(self.cfg)\n",
    "\n",
    "        val_iter = iter(self.val_loader)\n",
    "    \n",
    "\n",
    "        ssim_avgs = []\n",
    "        psnr_avgs = []\n",
    "        \n",
    "        with torch.no_grad():\n",
    "            for gen in checkpointslist:\n",
    "                ssim_vals = []\n",
    "                psnr_vals = []\n",
    "                \n",
    "                models = torch.load(gen)\n",
    "                gen_model_state_dict = models[\"generator_state_dict\"]\n",
    "                generator.load_state_dict(gen_model_state_dict)\n",
    "                \n",
    "                generator.to(self.device)\n",
    "                generator.eval()\n",
    "\n",
    "                for step in range(self.cfg.val_steps):\n",
    "                    try:\n",
    "                        img = next(val_iter)\n",
    "                    except:\n",
    "                        val_iter = iter(self.val_loader)\n",
    "                        img = next(val_iter)\n",
    "\n",
    "                    img = img.to(self.device)\n",
    "                    B, C, H, W = img.shape\n",
    "\n",
    "                    mask = self._create_mask(img)\n",
    "\n",
    "                    # Generate fake pixel values for the given mask and real images\n",
    "                    coarse_out, refine_out = generator(img, mask)\n",
    "\n",
    "                    coarse_out_wholeimg = img * (1 - mask) + coarse_out * mask\n",
    "                    refine_out_wholeimg = img * (1 - mask) + refine_out * mask\n",
    "\n",
    "                    psnr_val = psnr(refine_out_wholeimg, img)\n",
    "                    ssim_val = ssim(refine_out_wholeimg, img)\n",
    "                    psnr_vals.append(psnr_val)\n",
    "                    ssim_vals.append(ssim_val)\n",
    "                    \n",
    "                psnr_avgs.append(np.array(psnr_vals).mean())\n",
    "                ssim_avgs.append(np.array(ssim_vals).mean())\n",
    "\n",
    "        fig = plt.figure()\n",
    "        plt.plot(psnr_avgs)\n",
    "        fig.suptitle('PSNR', fontsize=20)\n",
    "        plt.xlabel('epochs', fontsize=18)\n",
    "        plt.ylabel('PSNR', fontsize=16)\n",
    "        fig.savefig('Network psnr.jpg')\n",
    "\n",
    "        fig2 = plt.figure()\n",
    "        plt.plot(ssim_avgs)\n",
    "        fig2.suptitle('SSIM', fontsize=20)\n",
    "        plt.xlabel('epochs', fontsize=18)\n",
    "        plt.ylabel('SSIM', fontsize=16)\n",
    "        fig2.savefig('Network ssim.jpg')"
   ]
  },
  {
   "cell_type": "code",
   "execution_count": 5,
   "metadata": {},
   "outputs": [],
   "source": [
    "def create_cfg(args):\n",
    "    parser = argparse.ArgumentParser()\n",
    "    for key, val in args.items():\n",
    "        parser.add_argument(key, default=val)\n",
    "\n",
    "    cfg = parser.parse_args()\n",
    "    return cfg"
   ]
  },
  {
   "cell_type": "code",
   "execution_count": 6,
   "metadata": {
    "pycharm": {
     "name": "#%%\n"
    }
   },
   "outputs": [],
   "source": [
    "args = {}\n",
    "# model\n",
    "args[\"--in_channels\"] = 4\n",
    "args[\"--out_channels\"] = 3\n",
    "args[\"--latent_channels\"] = 64\n",
    "args[\"--pad_type\"] = \"zero\"\n",
    "args[\"--activation\"] = \"elu\"\n",
    "args[\"--norm_d\"] = \"none\"\n",
    "args[\"--norm_g\"] = \"none\"\n",
    "args[\"--init_type\"] = \"kaiming\"\n",
    "args[\"--init_gain\"] = 0.02\n",
    "args[\"--use_cuda\"] = True\n",
    "\n",
    "# dataset\n",
    "args[\"--val_ds_dir\"] = '../../samples/Places365'\n",
    "args[\"--crop_size\"] = (256, 256)\n",
    "args[\"--batch_size\"] =  1\n",
    "args[\"--num_workers\"] = 1\n",
    "args[\"--device_id\"] = 0\n",
    "args[\"--val_steps\"] = 10"
   ]
  },
  {
   "cell_type": "code",
   "execution_count": 7,
   "metadata": {
    "pycharm": {
     "name": "#%%\n"
    }
   },
   "outputs": [],
   "source": [
    "cfg = create_cfg(args)"
   ]
  },
  {
   "cell_type": "code",
   "execution_count": 8,
   "metadata": {},
   "outputs": [
    {
     "name": "stderr",
     "output_type": "stream",
     "text": [
      "/home/goswami.p/miniconda3/envs/inpaint/lib/python3.8/site-packages/torchvision/transforms/transforms.py:852: UserWarning: Argument interpolation should be of type InterpolationMode instead of int. Please, use InterpolationMode enum.\n",
      "  warnings.warn(\n"
     ]
    }
   ],
   "source": [
    "val_ds = PlacesDataset(path_dir = cfg.val_ds_dir, transform_config=('to_tensor', 'center_crop', 'norm'), crop_size=cfg.crop_size)\n",
    "val_loader = DataLoader(val_ds, batch_size=cfg.batch_size, shuffle=True, pin_memory=True, num_workers=cfg.num_workers)"
   ]
  },
  {
   "cell_type": "code",
   "execution_count": 9,
   "metadata": {},
   "outputs": [
    {
     "name": "stdout",
     "output_type": "stream",
     "text": [
      "Total validation images: 104\n"
     ]
    }
   ],
   "source": [
    "print(f\"Total validation images: {len(val_ds)}\")"
   ]
  },
  {
   "cell_type": "code",
   "execution_count": 11,
   "metadata": {
    "pycharm": {
     "is_executing": true,
     "name": "#%%\n"
    }
   },
   "outputs": [],
   "source": [
    "eval = Evaluate(cfg, val_loader)"
   ]
  },
  {
   "cell_type": "code",
   "execution_count": null,
   "metadata": {
    "pycharm": {
     "name": "#%%\n"
    }
   },
   "outputs": [],
   "source": [
    "eval.evaluate(\"../../../../experiments/inpaint/ckpts/exp1\")"
   ]
  },
  {
   "cell_type": "code",
   "execution_count": null,
   "metadata": {
    "pycharm": {
     "name": "#%%\n"
    }
   },
   "outputs": [],
   "source": []
  },
  {
   "cell_type": "code",
   "execution_count": null,
   "metadata": {
    "pycharm": {
     "name": "#%%\n"
    }
   },
   "outputs": [],
   "source": []
  },
  {
   "cell_type": "code",
   "execution_count": null,
   "metadata": {},
   "outputs": [],
   "source": []
  }
 ],
 "metadata": {
  "kernelspec": {
   "display_name": "Python 3 (ipykernel)",
   "language": "python",
   "name": "python3"
  },
  "language_info": {
   "codemirror_mode": {
    "name": "ipython",
    "version": 3
   },
   "file_extension": ".py",
   "mimetype": "text/x-python",
   "name": "python",
   "nbconvert_exporter": "python",
   "pygments_lexer": "ipython3",
   "version": "3.8.13"
  }
 },
 "nbformat": 4,
 "nbformat_minor": 4
}

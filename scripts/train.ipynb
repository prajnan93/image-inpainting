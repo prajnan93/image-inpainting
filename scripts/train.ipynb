{
 "cells": [
  {
   "cell_type": "code",
   "execution_count": 1,
   "id": "4939d21b-0670-4258-93a9-1dd653630d97",
   "metadata": {},
   "outputs": [],
   "source": [
    "import sys\n",
    "\n",
    "sys.argv = [\"\"]\n",
    "del sys\n",
    "\n",
    "import argparse\n",
    "import warnings\n",
    "warnings.filterwarnings('ignore')"
   ]
  },
  {
   "cell_type": "code",
   "execution_count": 2,
   "id": "6b8efb89-ca34-42e5-ac29-488c16232edb",
   "metadata": {},
   "outputs": [],
   "source": [
    "def create_cfg():\n",
    "    parser = argparse.ArgumentParser()\n",
    "    for key, val in args.items():\n",
    "        parser.add_argument(key, default=val)\n",
    "        # print(\"--\" + key, val)\n",
    "    cfg = parser.parse_args()\n",
    "    return cfg"
   ]
  },
  {
   "cell_type": "code",
   "execution_count": 3,
   "id": "456571b3-f032-4bec-9d35-3fded7669cc8",
   "metadata": {},
   "outputs": [],
   "source": [
    "args = {}\n",
    "\n",
    "# Data args\n",
    "# args[\"--train_ds_dir\"] = '../../../../Datasets/Places365_Standard/data_large'\n",
    "# args[\"--val_ds_dir\"] = '../../../../Datasets/Places365_Standard/val_large'\n",
    "args[\"--train_ds_dir\"] = '../samples/Places365'\n",
    "args[\"--val_ds_dir\"] = '../samples/Places365'\n",
    "\n",
    "args[\"--CKPT_DIR\"] = '../../ckpts/exp1'\n",
    "args[\"--LOG_DIR\"] = '../../logs/exp1'\n",
    "args[\"--SAMPLE_DIR\"] = '../../samples/exp1'\n",
    "\n",
    "# args[\"--CKPT_DIR\"] = '../../../experiments/inpaint/ckpts/exp1'\n",
    "# args[\"--LOG_DIR\"] = '../../../experiments/inpaint/logs/exp1'\n",
    "# args[\"--SAMPLE_DIR\"] = '../../../experiments/inpaint/samples/exp1'\n",
    "\n",
    "# Image and Mask args\n",
    "args[\"--crop_size\"] = (384, 384)\n",
    "args[\"--mask_type\"] = 'free_form'\n",
    "args[\"--mask_num\"] = 20\n",
    "args[\"--max_angle\"] = 10 \n",
    "args[\"--max_len\"] = 40\n",
    "args[\"--max_width\"] = 50 \n",
    "args[\"--margin\"] = (10, 10) \n",
    "args[\"--bbox_shape\"] = (100, 100) \n",
    "\n",
    "# Training args\n",
    "args[\"--epochs\"] = 1\n",
    "args[\"--batch_size\"] =  1\n",
    "args[\"--num_workers\"] = 1\n",
    "args[\"--device_id\"] = 0\n",
    "args[\"--lr_g\"] =  1e-4 \n",
    "args[\"--lr_d\"] = 1e-4 \n",
    "args[\"--b1\"] = 0.5\n",
    "args[\"--b2\"] = 0.999\n",
    "args[\"--weight_decay\"] = 0\n",
    "args[\"--lambda_l1\"] = 10\n",
    "args[\"--lambda_perceptual\"] = 10\n",
    "args[\"--lambda_gan\"] = 1 \n",
    "args[\"--lr_decrease_epoch\"] = 10\n",
    "args[\"--lr_decrease_factor\"] = 0.5 \n",
    "\n",
    "args[\"--LOG_INTERVAL\"] = 100\n",
    "args[\"--SAVE_SAMPLES_INTERVAL\"] = 5\n",
    "args[\"--SAVE_SAMPLE_COUNT\"] = 5\n",
    "\n",
    "args[\"--use_cuda\"] = True\n",
    "\n",
    "\n",
    "# Model args\n",
    "args[\"--in_channels\"] = 4\n",
    "args[\"--out_channels\"] = 3\n",
    "args[\"--latent_channels\"] = 64\n",
    "args[\"--pad_type\"] = \"zero\"\n",
    "args[\"--activation\"] = \"elu\"\n",
    "args[\"--norm_d\"] = \"none\"\n",
    "args[\"--norm_g\"] = \"none\"\n",
    "args[\"--init_type\"] = \"kaiming\"\n",
    "args[\"--init_gain\"] = 0.02\n",
    "args[\"--use_perceptualnet\"] = True"
   ]
  },
  {
   "cell_type": "code",
   "execution_count": 4,
   "id": "74d45960-51bf-427c-bb45-8152406513d8",
   "metadata": {},
   "outputs": [],
   "source": [
    "cfg = create_cfg()"
   ]
  },
  {
   "cell_type": "code",
   "execution_count": 5,
   "id": "921abad8-234e-4793-86b1-3fd087040e6f",
   "metadata": {},
   "outputs": [],
   "source": [
    "from inpaint.data import PlacesDataset\n",
    "from torch.utils.data import DataLoader\n",
    "from inpaint.core.discriminator import PatchDiscriminator\n",
    "from inpaint.core.generator import GatedGenerator\n",
    "from inpaint.tools import Trainer"
   ]
  },
  {
   "cell_type": "code",
   "execution_count": 6,
   "id": "7b818fbe-6d04-45ef-9718-3123dd3b7169",
   "metadata": {},
   "outputs": [
    {
     "name": "stdout",
     "output_type": "stream",
     "text": [
      "Total training images: 24\n"
     ]
    }
   ],
   "source": [
    "train_ds = PlacesDataset(path_dir = cfg.train_ds_dir, transform_config=('to_tensor', 'random_crop', 'norm'), crop_size=(384,384))\n",
    "print(f\"Total training images: {len(train_ds)}\")"
   ]
  },
  {
   "cell_type": "code",
   "execution_count": 7,
   "id": "8c49ad65-e938-4154-845c-f0601b7d4fd7",
   "metadata": {},
   "outputs": [
    {
     "name": "stdout",
     "output_type": "stream",
     "text": [
      "Total validation images: 24\n"
     ]
    }
   ],
   "source": [
    "val_ds = PlacesDataset(path_dir = cfg.val_ds_dir, transform_config=('to_tensor', 'center_crop', 'norm'), crop_size=(384,384))\n",
    "print(f\"Total validation images: {len(val_ds)}\")"
   ]
  },
  {
   "cell_type": "code",
   "execution_count": 8,
   "id": "28a94c32-553d-45cc-96e9-1e5b26b4048a",
   "metadata": {},
   "outputs": [],
   "source": [
    "train_loader = DataLoader(train_ds, batch_size=cfg.batch_size, shuffle=True, pin_memory=True, num_workers=cfg.num_workers)"
   ]
  },
  {
   "cell_type": "code",
   "execution_count": 9,
   "id": "f2c2b583-b339-468d-8ce2-c8e3a4d41a40",
   "metadata": {},
   "outputs": [],
   "source": [
    "val_loader = DataLoader(val_ds, batch_size=cfg.batch_size, shuffle=True, pin_memory=True, num_workers=cfg.num_workers)"
   ]
  },
  {
   "cell_type": "code",
   "execution_count": 10,
   "id": "73f5c147-3701-403c-b09a-4333c2b256cd",
   "metadata": {},
   "outputs": [],
   "source": [
    "generator = GatedGenerator(cfg)\n",
    "discriminator = PatchDiscriminator(cfg)"
   ]
  },
  {
   "cell_type": "code",
   "execution_count": 11,
   "id": "e98ef233-dcb4-43b3-8e77-237e624b0cc4",
   "metadata": {},
   "outputs": [
    {
     "name": "stdout",
     "output_type": "stream",
     "text": [
      "Running on CUDA device: 0\n"
     ]
    }
   ],
   "source": [
    "trainer = Trainer(\n",
    "    cfg=cfg,\n",
    "    discriminator=discriminator,\n",
    "    generator=generator,\n",
    "    train_loader=train_loader,\n",
    "    val_loader=val_loader\n",
    ")"
   ]
  },
  {
   "cell_type": "code",
   "execution_count": 12,
   "id": "e55c835c-540a-4200-8d30-137d755e2170",
   "metadata": {},
   "outputs": [
    {
     "name": "stdout",
     "output_type": "stream",
     "text": [
      "Epoch 1 of 1\n",
      "----------------------------------------------------------------------------------------------------\n",
      "Iteration 0/0 Discriminator Loss: 1.0002732276916504, GAN Loss: 0.026920108124613762, Reconstruction Loss: 6.517164707183838, Overall Generator Loss: 151.3042449951172\n"
     ]
    },
    {
     "ename": "KeyboardInterrupt",
     "evalue": "",
     "output_type": "error",
     "traceback": [
      "\u001b[1;31m---------------------------------------------------------------------------\u001b[0m",
      "\u001b[1;31mKeyboardInterrupt\u001b[0m                         Traceback (most recent call last)",
      "Input \u001b[1;32mIn [12]\u001b[0m, in \u001b[0;36m<cell line: 1>\u001b[1;34m()\u001b[0m\n\u001b[1;32m----> 1\u001b[0m \u001b[43mtrainer\u001b[49m\u001b[38;5;241;43m.\u001b[39;49m\u001b[43mtrain\u001b[49m\u001b[43m(\u001b[49m\u001b[43m)\u001b[49m\n",
      "File \u001b[1;32m~\\miniconda3\\envs\\inpaint\\lib\\site-packages\\inpaint-0.1.0-py3.8.egg\\inpaint\\tools\\trainer.py:487\u001b[0m, in \u001b[0;36mTrainer.train\u001b[1;34m(self)\u001b[0m\n\u001b[0;32m    484\u001b[0m os\u001b[38;5;241m.\u001b[39mmakedirs(\u001b[38;5;28mself\u001b[39m\u001b[38;5;241m.\u001b[39mcfg\u001b[38;5;241m.\u001b[39mLOG_DIR, exist_ok\u001b[38;5;241m=\u001b[39m\u001b[38;5;28;01mTrue\u001b[39;00m)\n\u001b[0;32m    485\u001b[0m os\u001b[38;5;241m.\u001b[39mmakedirs(\u001b[38;5;28mself\u001b[39m\u001b[38;5;241m.\u001b[39mcfg\u001b[38;5;241m.\u001b[39mSAMPLE_DIR, exist_ok\u001b[38;5;241m=\u001b[39m\u001b[38;5;28;01mTrue\u001b[39;00m)\n\u001b[1;32m--> 487\u001b[0m best_generator, best_discriminator \u001b[38;5;241m=\u001b[39m \u001b[38;5;28;43mself\u001b[39;49m\u001b[38;5;241;43m.\u001b[39;49m\u001b[43m_train_gan\u001b[49m\u001b[43m(\u001b[49m\u001b[43m)\u001b[49m\n\u001b[0;32m    489\u001b[0m best_models_dict \u001b[38;5;241m=\u001b[39m {\n\u001b[0;32m    490\u001b[0m     \u001b[38;5;124m\"\u001b[39m\u001b[38;5;124mgenerator_state_dict\u001b[39m\u001b[38;5;124m\"\u001b[39m: best_generator\u001b[38;5;241m.\u001b[39mstate_dict(),\n\u001b[0;32m    491\u001b[0m     \u001b[38;5;124m\"\u001b[39m\u001b[38;5;124mdiscriminator_state_dict\u001b[39m\u001b[38;5;124m\"\u001b[39m: best_discriminator\u001b[38;5;241m.\u001b[39mstate_dict(),\n\u001b[0;32m    492\u001b[0m }\n\u001b[0;32m    494\u001b[0m torch\u001b[38;5;241m.\u001b[39msave(\n\u001b[0;32m    495\u001b[0m     best_models_dict,\n\u001b[0;32m    496\u001b[0m     os\u001b[38;5;241m.\u001b[39mpath\u001b[38;5;241m.\u001b[39mjoin(\u001b[38;5;28mself\u001b[39m\u001b[38;5;241m.\u001b[39mcfg\u001b[38;5;241m.\u001b[39mCKPT_DIR, \u001b[38;5;124m\"\u001b[39m\u001b[38;5;124mbest_models_final.pth\u001b[39m\u001b[38;5;124m\"\u001b[39m),\n\u001b[0;32m    497\u001b[0m )\n",
      "File \u001b[1;32m~\\miniconda3\\envs\\inpaint\\lib\\site-packages\\inpaint-0.1.0-py3.8.egg\\inpaint\\tools\\trainer.py:249\u001b[0m, in \u001b[0;36mTrainer._train_gan\u001b[1;34m(self)\u001b[0m\n\u001b[0;32m    244\u001b[0m loss_g, loss_r, loss_total \u001b[38;5;241m=\u001b[39m \u001b[38;5;28mself\u001b[39m\u001b[38;5;241m.\u001b[39m_train_generator(\n\u001b[0;32m    245\u001b[0m     img, mask, coarse_out, refine_out, refine_out_wholeimg, optimizer_g\n\u001b[0;32m    246\u001b[0m )\n\u001b[0;32m    248\u001b[0m \u001b[38;5;66;03m# Track loss history\u001b[39;00m\n\u001b[1;32m--> 249\u001b[0m losses[\u001b[38;5;124m\"\u001b[39m\u001b[38;5;124mloss_d\u001b[39m\u001b[38;5;124m\"\u001b[39m]\u001b[38;5;241m.\u001b[39mupdate(\u001b[43mloss_d\u001b[49m\u001b[38;5;241;43m.\u001b[39;49m\u001b[43mitem\u001b[49m\u001b[43m(\u001b[49m\u001b[43m)\u001b[49m, B)\n\u001b[0;32m    250\u001b[0m losses[\u001b[38;5;124m\"\u001b[39m\u001b[38;5;124mloss_g\u001b[39m\u001b[38;5;124m\"\u001b[39m]\u001b[38;5;241m.\u001b[39mupdate(loss_g\u001b[38;5;241m.\u001b[39mitem(), B)\n\u001b[0;32m    251\u001b[0m losses[\u001b[38;5;124m\"\u001b[39m\u001b[38;5;124mloss_r\u001b[39m\u001b[38;5;124m\"\u001b[39m]\u001b[38;5;241m.\u001b[39mupdate(loss_r\u001b[38;5;241m.\u001b[39mitem(), B)\n",
      "\u001b[1;31mKeyboardInterrupt\u001b[0m: "
     ]
    }
   ],
   "source": [
    "trainer.train()"
   ]
  },
  {
   "cell_type": "code",
   "execution_count": null,
   "id": "c1dd373e-9e96-4f0a-b54a-49236f35a58c",
   "metadata": {},
   "outputs": [],
   "source": []
  }
 ],
 "metadata": {
  "kernelspec": {
   "display_name": "Python 3 (ipykernel)",
   "language": "python",
   "name": "python3"
  },
  "language_info": {
   "codemirror_mode": {
    "name": "ipython",
    "version": 3
   },
   "file_extension": ".py",
   "mimetype": "text/x-python",
   "name": "python",
   "nbconvert_exporter": "python",
   "pygments_lexer": "ipython3",
   "version": "3.8.12"
  }
 },
 "nbformat": 4,
 "nbformat_minor": 5
}

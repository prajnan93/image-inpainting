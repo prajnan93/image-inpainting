{
 "cells": [
  {
   "cell_type": "code",
   "execution_count": 1,
   "id": "4939d21b-0670-4258-93a9-1dd653630d97",
   "metadata": {},
   "outputs": [],
   "source": [
    "import sys\n",
    "\n",
    "sys.argv = [\"\"]\n",
    "del sys\n",
    "\n",
    "import argparse"
   ]
  },
  {
   "cell_type": "code",
   "execution_count": 2,
   "id": "6b8efb89-ca34-42e5-ac29-488c16232edb",
   "metadata": {},
   "outputs": [],
   "source": [
    "def create_cfg():\n",
    "    parser = argparse.ArgumentParser()\n",
    "    for key, val in args.items():\n",
    "        parser.add_argument(key, default=val)\n",
    "        # print(\"--\" + key, val)\n",
    "    cfg = parser.parse_args()\n",
    "    return cfg"
   ]
  },
  {
   "cell_type": "code",
   "execution_count": 3,
   "id": "456571b3-f032-4bec-9d35-3fded7669cc8",
   "metadata": {},
   "outputs": [],
   "source": [
    "args = {}\n",
    "\n",
    "# Data args\n",
    "args[\"--train_ds_dir\"] = '../../../../Datasets/Places365_Standard/data_large'\n",
    "args[\"--val_ds_dir\"] = '../../../../Datasets/Places365_Standard/val_large'\n",
    "args[\"--CKPT_DIR\"] = '../../../experiments/inpaint/ckpts/exp1'\n",
    "args[\"--LOG_DIR\"] = '../../../experiments/inpaint/logs/exp1'\n",
    "args[\"--SAMPLE_DIR\"] = '../../../experiments/inpaint/samples/exp1'\n",
    "\n",
    "# Image and Mask args\n",
    "args[\"--crop_size\"] = (384, 384)\n",
    "args[\"--mask_type\"] = 'free_form'\n",
    "args[\"--mask_num\"] = 20\n",
    "args[\"--max_angle\"] = 10 \n",
    "args[\"--max_len\"] = 40\n",
    "args[\"--max_width\"] = 50 \n",
    "args[\"--margin\"] = (10, 10) \n",
    "args[\"--bbox_shape\"] = (100, 100) \n",
    "\n",
    "# Training args\n",
    "args[\"--epochs\"] = 1\n",
    "args[\"--batch_size\"] =  10\n",
    "args[\"--num_workers\"] = 4\n",
    "args[\"--device_id\"] = 0\n",
    "args[\"--lr_g\"] =  1e-4 \n",
    "args[\"--lr_d\"] = 1e-4 \n",
    "args[\"--b1\"] = 0.5\n",
    "args[\"--b1\"] = 0.999\n",
    "args[\"--weight_decay\"] = 0\n",
    "args[\"--lambda_l1\"] = 10\n",
    "args[\"--lambda_perceptual\"] = 10\n",
    "args[\"--lambda_gan\"] = 1 \n",
    "args[\"--lr_decrease_epoch\"] = 10\n",
    "args[\"--lr_decrease_factor\"] = 0.5 \n",
    "\n",
    "args[\"--LOG_INTERVAL\"] = 100\n",
    "args[\"--SAVE_SAMPLES_INTERVAL\"] = 5\n",
    "args[\"--SAVE_SAMPLE_COUNT\"] = 5\n",
    "\n",
    "args[\"--use_cuda\"] = True\n",
    "\n",
    "\n",
    "# Model args\n",
    "args[\"--in_channels\"] = 4\n",
    "args[\"--out_channels\"] = 3\n",
    "args[\"--latent_channels\"] = 64\n",
    "args[\"--pad_type\"] = \"zero\"\n",
    "args[\"--activation\"] = \"elu\"\n",
    "args[\"--norm_d\"] = \"none\"\n",
    "args[\"--norm_g\"] = \"none\"\n",
    "args[\"--init_type\"] = \"kaiming\"\n",
    "args[\"--init_gain\"] = 0.02\n",
    "args[\"--use_perceptualnet\"] = True"
   ]
  },
  {
   "cell_type": "code",
   "execution_count": 4,
   "id": "74d45960-51bf-427c-bb45-8152406513d8",
   "metadata": {},
   "outputs": [],
   "source": [
    "cfg = create_cfg()"
   ]
  },
  {
   "cell_type": "code",
   "execution_count": 5,
   "id": "921abad8-234e-4793-86b1-3fd087040e6f",
   "metadata": {},
   "outputs": [],
   "source": [
    "from inpaint.data import PlacesDataset\n",
    "from torch.utils.data import DataLoader\n",
    "from inpaint.core.discriminator import PatchDiscriminator\n",
    "from inpaint.core.generator import GatedGenerator\n",
    "from inpaint.tools import Trainer"
   ]
  },
  {
   "cell_type": "code",
   "execution_count": null,
   "id": "7b818fbe-6d04-45ef-9718-3123dd3b7169",
   "metadata": {},
   "outputs": [],
   "source": [
    "train_ds = PlacesDataset(path_dir = cfg.train_ds_dir, transform_config=('to_tensor', 'random_crop', 'norm'), crop_size=(384,384))\n",
    "print(f\"Total training images: {len(train_ds)}\")"
   ]
  },
  {
   "cell_type": "code",
   "execution_count": 6,
   "id": "8c49ad65-e938-4154-845c-f0601b7d4fd7",
   "metadata": {},
   "outputs": [
    {
     "name": "stdout",
     "output_type": "stream",
     "text": [
      "Total validation images: 36500\n"
     ]
    },
    {
     "name": "stderr",
     "output_type": "stream",
     "text": [
      "/home/goswami.p/miniconda3/envs/inpaint/lib/python3.8/site-packages/torchvision/transforms/transforms.py:852: UserWarning: Argument interpolation should be of type InterpolationMode instead of int. Please, use InterpolationMode enum.\n",
      "  warnings.warn(\n"
     ]
    }
   ],
   "source": [
    "val_ds = PlacesDataset(path_dir = cfg.val_ds_dir, transform_config=('to_tensor', 'center_crop', 'norm'), crop_size=(384,384))\n",
    "print(f\"Total validation images: {len(val_ds)}\")"
   ]
  },
  {
   "cell_type": "code",
   "execution_count": 18,
   "id": "28a94c32-553d-45cc-96e9-1e5b26b4048a",
   "metadata": {},
   "outputs": [
    {
     "ename": "ValueError",
     "evalue": "num_samples should be a positive integer value, but got num_samples=0",
     "output_type": "error",
     "traceback": [
      "\u001b[0;31m---------------------------------------------------------------------------\u001b[0m",
      "\u001b[0;31mValueError\u001b[0m                                Traceback (most recent call last)",
      "Input \u001b[0;32mIn [18]\u001b[0m, in \u001b[0;36m<cell line: 1>\u001b[0;34m()\u001b[0m\n\u001b[0;32m----> 1\u001b[0m train_loader \u001b[38;5;241m=\u001b[39m \u001b[43mDataLoader\u001b[49m\u001b[43m(\u001b[49m\u001b[43mtrain_ds\u001b[49m\u001b[43m,\u001b[49m\u001b[43m \u001b[49m\u001b[43mbatch_size\u001b[49m\u001b[38;5;241;43m=\u001b[39;49m\u001b[43mcfg\u001b[49m\u001b[38;5;241;43m.\u001b[39;49m\u001b[43mbatch_size\u001b[49m\u001b[43m,\u001b[49m\u001b[43m \u001b[49m\u001b[43mshuffle\u001b[49m\u001b[38;5;241;43m=\u001b[39;49m\u001b[38;5;28;43;01mTrue\u001b[39;49;00m\u001b[43m,\u001b[49m\u001b[43m \u001b[49m\u001b[43mpin_memory\u001b[49m\u001b[38;5;241;43m=\u001b[39;49m\u001b[38;5;28;43;01mTrue\u001b[39;49;00m\u001b[43m,\u001b[49m\u001b[43m \u001b[49m\u001b[43mnum_workers\u001b[49m\u001b[38;5;241;43m=\u001b[39;49m\u001b[38;5;241;43m1\u001b[39;49m\u001b[43m)\u001b[49m\n",
      "File \u001b[0;32m~/miniconda3/envs/inpaint/lib/python3.8/site-packages/torch/utils/data/dataloader.py:268\u001b[0m, in \u001b[0;36mDataLoader.__init__\u001b[0;34m(self, dataset, batch_size, shuffle, sampler, batch_sampler, num_workers, collate_fn, pin_memory, drop_last, timeout, worker_init_fn, multiprocessing_context, generator, prefetch_factor, persistent_workers)\u001b[0m\n\u001b[1;32m    266\u001b[0m \u001b[38;5;28;01melse\u001b[39;00m:  \u001b[38;5;66;03m# map-style\u001b[39;00m\n\u001b[1;32m    267\u001b[0m     \u001b[38;5;28;01mif\u001b[39;00m shuffle:\n\u001b[0;32m--> 268\u001b[0m         sampler \u001b[38;5;241m=\u001b[39m \u001b[43mRandomSampler\u001b[49m\u001b[43m(\u001b[49m\u001b[43mdataset\u001b[49m\u001b[43m,\u001b[49m\u001b[43m \u001b[49m\u001b[43mgenerator\u001b[49m\u001b[38;5;241;43m=\u001b[39;49m\u001b[43mgenerator\u001b[49m\u001b[43m)\u001b[49m\n\u001b[1;32m    269\u001b[0m     \u001b[38;5;28;01melse\u001b[39;00m:\n\u001b[1;32m    270\u001b[0m         sampler \u001b[38;5;241m=\u001b[39m SequentialSampler(dataset)\n",
      "File \u001b[0;32m~/miniconda3/envs/inpaint/lib/python3.8/site-packages/torch/utils/data/sampler.py:102\u001b[0m, in \u001b[0;36mRandomSampler.__init__\u001b[0;34m(self, data_source, replacement, num_samples, generator)\u001b[0m\n\u001b[1;32m     98\u001b[0m     \u001b[38;5;28;01mraise\u001b[39;00m \u001b[38;5;167;01mValueError\u001b[39;00m(\u001b[38;5;124m\"\u001b[39m\u001b[38;5;124mWith replacement=False, num_samples should not be specified, \u001b[39m\u001b[38;5;124m\"\u001b[39m\n\u001b[1;32m     99\u001b[0m                      \u001b[38;5;124m\"\u001b[39m\u001b[38;5;124msince a random permute will be performed.\u001b[39m\u001b[38;5;124m\"\u001b[39m)\n\u001b[1;32m    101\u001b[0m \u001b[38;5;28;01mif\u001b[39;00m \u001b[38;5;129;01mnot\u001b[39;00m \u001b[38;5;28misinstance\u001b[39m(\u001b[38;5;28mself\u001b[39m\u001b[38;5;241m.\u001b[39mnum_samples, \u001b[38;5;28mint\u001b[39m) \u001b[38;5;129;01mor\u001b[39;00m \u001b[38;5;28mself\u001b[39m\u001b[38;5;241m.\u001b[39mnum_samples \u001b[38;5;241m<\u001b[39m\u001b[38;5;241m=\u001b[39m \u001b[38;5;241m0\u001b[39m:\n\u001b[0;32m--> 102\u001b[0m     \u001b[38;5;28;01mraise\u001b[39;00m \u001b[38;5;167;01mValueError\u001b[39;00m(\u001b[38;5;124m\"\u001b[39m\u001b[38;5;124mnum_samples should be a positive integer \u001b[39m\u001b[38;5;124m\"\u001b[39m\n\u001b[1;32m    103\u001b[0m                      \u001b[38;5;124m\"\u001b[39m\u001b[38;5;124mvalue, but got num_samples=\u001b[39m\u001b[38;5;132;01m{}\u001b[39;00m\u001b[38;5;124m\"\u001b[39m\u001b[38;5;241m.\u001b[39mformat(\u001b[38;5;28mself\u001b[39m\u001b[38;5;241m.\u001b[39mnum_samples))\n",
      "\u001b[0;31mValueError\u001b[0m: num_samples should be a positive integer value, but got num_samples=0"
     ]
    }
   ],
   "source": [
    "train_loader = DataLoader(train_ds, batch_size=cfg.batch_size, shuffle=True, pin_memory=True, num_workers=cfg.num_workers)"
   ]
  },
  {
   "cell_type": "code",
   "execution_count": null,
   "id": "f2c2b583-b339-468d-8ce2-c8e3a4d41a40",
   "metadata": {},
   "outputs": [],
   "source": [
    "val_loader = DataLoader(val_ds, batch_size=cfg.batch_size, shuffle=True, pin_memory=True, num_workers=cfg.num_workers)"
   ]
  },
  {
   "cell_type": "code",
   "execution_count": null,
   "id": "73f5c147-3701-403c-b09a-4333c2b256cd",
   "metadata": {},
   "outputs": [],
   "source": [
    "generator = GatedGenerator(cfg)\n",
    "discriminator = PatchDiscriminator(cfg)"
   ]
  },
  {
   "cell_type": "code",
   "execution_count": null,
   "id": "e98ef233-dcb4-43b3-8e77-237e624b0cc4",
   "metadata": {},
   "outputs": [],
   "source": [
    "trainer = Trainer(\n",
    "    cfg=cfg,\n",
    "    discriminator=discriminator,\n",
    "    generator=generator,\n",
    "    train_loader=train_loader,\n",
    "    val_loader=val_loader\n",
    ")"
   ]
  },
  {
   "cell_type": "code",
   "execution_count": null,
   "id": "e55c835c-540a-4200-8d30-137d755e2170",
   "metadata": {},
   "outputs": [],
   "source": [
    "trainer.train()"
   ]
  }
 ],
 "metadata": {
  "kernelspec": {
   "display_name": "Python 3 (ipykernel)",
   "language": "python",
   "name": "python3"
  },
  "language_info": {
   "codemirror_mode": {
    "name": "ipython",
    "version": 3
   },
   "file_extension": ".py",
   "mimetype": "text/x-python",
   "name": "python",
   "nbconvert_exporter": "python",
   "pygments_lexer": "ipython3",
   "version": "3.8.13"
  }
 },
 "nbformat": 4,
 "nbformat_minor": 5
}
